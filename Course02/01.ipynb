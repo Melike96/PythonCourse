{
 "cells": [
  {
   "cell_type": "code",
   "execution_count": 1,
   "metadata": {},
   "outputs": [],
   "source": [
    "print(\"Merhaba Python!\")"
   ]
  },
  {
   "cell_type": "code",
   "execution_count": 2,
   "metadata": {},
   "outputs": [],
   "source": [
    "if True:\n",
    "    print(\"Şart gerçekleşti. if içi.\")\n",
    "    print(\"Satır 2, if içi\")\n",
    "print(\"if dışı\")"
   ]
  },
  {
   "cell_type": "code",
   "execution_count": 3,
   "metadata": {},
   "outputs": [
    {
     "name": "stdout",
     "output_type": "stream",
     "text": [
      "10\n"
     ]
    }
   ],
   "source": [
    "Sayi_1 = 10\n",
    "And = 1023\n",
    "print(Sayi_1)"
   ]
  },
  {
   "cell_type": "code",
   "execution_count": 4,
   "metadata": {},
   "outputs": [
    {
     "name": "stdout",
     "output_type": "stream",
     "text": [
      "Merhaba Python\n"
     ]
    }
   ],
   "source": [
    "str = 'Merhaba ' + \\\n",
    "    'Python'\n",
    "#+ karakterinden sonra enter tuşuna basarsan \\ karakteri kullanmalısın. İki satırı birleştirir.\n",
    "print(str)"
   ]
  },
  {
   "cell_type": "code",
   "execution_count": 5,
   "metadata": {},
   "outputs": [
    {
     "name": "stdout",
     "output_type": "stream",
     "text": [
      "\"Merhaba Python!!\"\n",
      "\"Merhaba Python!!\"\n",
      "'Merhaba Python!!'\n"
     ]
    }
   ],
   "source": [
    "#tek veya çift tırnak kullanılabilir.\n",
    "str_2 = \"\\\"Merhaba Python!!\\\"\"\n",
    "print(str_2)\n",
    "str_3 = '\"Merhaba Python!!\"'\n",
    "print(str_3)\n",
    "str_3 = \"'Merhaba Python!!'\"\n",
    "print(str_3)"
   ]
  },
  {
   "cell_type": "code",
   "execution_count": 6,
   "metadata": {},
   "outputs": [
    {
     "name": "stdout",
     "output_type": "stream",
     "text": [
      "Deneme\n",
      "Deneme\n",
      "deneme\n"
     ]
    }
   ],
   "source": [
    "metin = \"\"\"Deneme\n",
    "Deneme\n",
    "deneme\"\"\" #üçlü tırnak enter işlemi yapabilmek için kullanılır.\n",
    "\n",
    "print(metin)"
   ]
  },
  {
   "cell_type": "code",
   "execution_count": 7,
   "metadata": {},
   "outputs": [
    {
     "name": "stdout",
     "output_type": "stream",
     "text": [
      "Merhaba\n",
      "Python!!!\n"
     ]
    }
   ],
   "source": [
    "print(\"Merhaba\"); print(\"Python!!!\") #aynı satırda işlem yapmak için ; kullanılır, ancak tek kmout varsa kullanılmaz \n",
    "#son komutta ; kullanılmaz"
   ]
  }
 ],
 "metadata": {
  "kernelspec": {
   "display_name": "Python 3",
   "language": "python",
   "name": "python3"
  },
  "language_info": {
   "codemirror_mode": {
    "name": "ipython",
    "version": 3
   },
   "file_extension": ".py",
   "mimetype": "text/x-python",
   "name": "python",
   "nbconvert_exporter": "python",
   "pygments_lexer": "ipython3",
   "version": "3.7.0"
  }
 },
 "nbformat": 4,
 "nbformat_minor": 2
}
