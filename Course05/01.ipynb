{
 "cells": [
  {
   "cell_type": "code",
   "execution_count": 3,
   "metadata": {},
   "outputs": [
    {
     "name": "stdout",
     "output_type": "stream",
     "text": [
      "if içi 1\n",
      "if içi 2\n",
      "if dışı\n"
     ]
    }
   ],
   "source": [
    "if True:\n",
    "    print(\"if içi 1\")\n",
    "    print(\"if içi 2\")\n",
    "print(\"if dışı\")"
   ]
  },
  {
   "cell_type": "code",
   "execution_count": 4,
   "metadata": {},
   "outputs": [
    {
     "name": "stdout",
     "output_type": "stream",
     "text": [
      "Eşit değiller\n"
     ]
    }
   ],
   "source": [
    "a, b = 15, 25\n",
    "\n",
    "if a != b:\n",
    "    print(\"Eşit değiller\")"
   ]
  },
  {
   "cell_type": "code",
   "execution_count": 9,
   "metadata": {},
   "outputs": [
    {
     "name": "stdout",
     "output_type": "stream",
     "text": [
      "Bu satır çalışır.\n",
      "100\n",
      "Bye!\n"
     ]
    }
   ],
   "source": [
    "var1 = 100\n",
    "if var1:\n",
    "    print(\"Bu satır çalışır.\")\n",
    "    print(var1)\n",
    "\n",
    "var2 = 0\n",
    "if var2:\n",
    "    print(\"Bu satır çalışmaz.\")\n",
    "    print(var2)\n",
    "    \n",
    "print(\"Bye!\")"
   ]
  },
  {
   "cell_type": "code",
   "execution_count": 12,
   "metadata": {},
   "outputs": [
    {
     "name": "stdout",
     "output_type": "stream",
     "text": [
      "Eşit değildir!\n"
     ]
    }
   ],
   "source": [
    "a, b = 15, 25\n",
    "\n",
    "if a == b:\n",
    "    print(\"Eşittir\")\n",
    "else:\n",
    "    print(\"Eşit değildir!\")"
   ]
  },
  {
   "cell_type": "code",
   "execution_count": 22,
   "metadata": {},
   "outputs": [
    {
     "name": "stdout",
     "output_type": "stream",
     "text": [
      "8\n"
     ]
    }
   ],
   "source": [
    "import datetime\n",
    "saat = datetime.datetime.now().hour\n",
    "print(saat)"
   ]
  },
  {
   "cell_type": "code",
   "execution_count": 24,
   "metadata": {},
   "outputs": [
    {
     "name": "stdout",
     "output_type": "stream",
     "text": [
      "Günaydın\n"
     ]
    }
   ],
   "source": [
    "if saat < 11:\n",
    "    print(\"Günaydın\")\n",
    "elif saat < 15:\n",
    "    print(\"Tünaydın\")\n",
    "elif saat < 21:\n",
    "    print(\"İyi akşamlar\")\n",
    "else:\n",
    "    print(\"İyi geceler\")"
   ]
  },
  {
   "cell_type": "code",
   "execution_count": 28,
   "metadata": {},
   "outputs": [
    {
     "name": "stdout",
     "output_type": "stream",
     "text": [
      "Değer 200'den küçük\n",
      "Değer 100\n",
      "Bye!\n"
     ]
    }
   ],
   "source": [
    "var = 100\n",
    "if var < 200:\n",
    "   print(\"Değer 200'den küçük\")\n",
    "   if var == 150:\n",
    "      print(\"Değer 150\")\n",
    "   elif var == 100:\n",
    "      print(\"Değer 100\")\n",
    "   elif var == 50:\n",
    "      print(\"Değer 50\")\n",
    "   elif var < 50:\n",
    "      print(\"Değer 50'den küçük\")\n",
    "else:\n",
    "   print(\"Değer 100'den büyük\")\n",
    " \n",
    "print(\"Bye!\")"
   ]
  },
  {
   "cell_type": "code",
   "execution_count": 30,
   "metadata": {},
   "outputs": [
    {
     "name": "stdout",
     "output_type": "stream",
     "text": [
      "Değer 100\n",
      "deneme\n",
      "Bye!\n"
     ]
    }
   ],
   "source": [
    "var = 100\n",
    "if ( var == 100 ) : print(\"Değer 100\"); print(\"deneme\")\n",
    "print(\"Bye!\")"
   ]
  },
  {
   "cell_type": "code",
   "execution_count": null,
   "metadata": {},
   "outputs": [],
   "source": []
  }
 ],
 "metadata": {
  "kernelspec": {
   "display_name": "Python 3",
   "language": "python",
   "name": "python3"
  },
  "language_info": {
   "codemirror_mode": {
    "name": "ipython",
    "version": 3
   },
   "file_extension": ".py",
   "mimetype": "text/x-python",
   "name": "python",
   "nbconvert_exporter": "python",
   "pygments_lexer": "ipython3",
   "version": "3.7.0"
  }
 },
 "nbformat": 4,
 "nbformat_minor": 2
}
