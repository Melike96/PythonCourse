{
 "cells": [
  {
   "cell_type": "code",
   "execution_count": 1,
   "metadata": {},
   "outputs": [],
   "source": [
    "l = [\"Merhaba\", \"Python\", \"!!!\", 758, 23.2, 34345, 213.1]"
   ]
  },
  {
   "cell_type": "code",
   "execution_count": 2,
   "metadata": {},
   "outputs": [
    {
     "name": "stdout",
     "output_type": "stream",
     "text": [
      "['Merhaba', 'Python', '!!!', 758, 23.2, 34345, 213.1]\n"
     ]
    }
   ],
   "source": [
    "print(l)"
   ]
  },
  {
   "cell_type": "code",
   "execution_count": 3,
   "metadata": {},
   "outputs": [
    {
     "name": "stdout",
     "output_type": "stream",
     "text": [
      "Merhaba\n",
      "Python\n",
      "!!!\n",
      "758\n",
      "23.2\n",
      "34345\n",
      "213.1\n"
     ]
    }
   ],
   "source": [
    "for eleman in l:\n",
    "    print(eleman)"
   ]
  },
  {
   "cell_type": "code",
   "execution_count": 4,
   "metadata": {},
   "outputs": [
    {
     "name": "stdout",
     "output_type": "stream",
     "text": [
      "M\n",
      "e\n",
      "r\n",
      "h\n",
      "a\n",
      "b\n",
      "a\n"
     ]
    }
   ],
   "source": [
    "for harf in \"Merhaba\":\n",
    "    print(harf)"
   ]
  },
  {
   "cell_type": "code",
   "execution_count": 5,
   "metadata": {},
   "outputs": [
    {
     "name": "stdout",
     "output_type": "stream",
     "text": [
      "7\n"
     ]
    }
   ],
   "source": [
    "print(len(l))"
   ]
  },
  {
   "cell_type": "code",
   "execution_count": 6,
   "metadata": {},
   "outputs": [
    {
     "name": "stdout",
     "output_type": "stream",
     "text": [
      "0 Merhaba\n",
      "1 Python\n",
      "2 !!!\n",
      "3 758\n",
      "4 23.2\n",
      "5 34345\n",
      "6 213.1\n"
     ]
    }
   ],
   "source": [
    "for i in range(len(l)):\n",
    "    print(i, l[i])"
   ]
  },
  {
   "cell_type": "code",
   "execution_count": 12,
   "metadata": {},
   "outputs": [
    {
     "name": "stdout",
     "output_type": "stream",
     "text": [
      "2 !!!\n",
      "4 23.2\n"
     ]
    }
   ],
   "source": [
    "for i in range(2, 6, 2):\n",
    "    print(i, l[i])"
   ]
  },
  {
   "cell_type": "code",
   "execution_count": 13,
   "metadata": {},
   "outputs": [
    {
     "name": "stdout",
     "output_type": "stream",
     "text": [
      "Geçerli değer : 9\n",
      "Geçerli değer : 7\n",
      "Geçerli değer : 6\n",
      "Geçerli değer : 4\n",
      "Geçerli değer : 3\n",
      "Geçerli değer : 2\n",
      "Geçerli değer : 1\n",
      "Geçerli değer : 0\n",
      "Bye!\n"
     ]
    }
   ],
   "source": [
    "var = 10\n",
    "while var > 0:              \n",
    "   var = var - 1\n",
    "   if var == 5 or var == 8:\n",
    "      continue\n",
    "   print('Geçerli değer :', var)\n",
    "print(\"Bye!\")"
   ]
  },
  {
   "cell_type": "code",
   "execution_count": 14,
   "metadata": {},
   "outputs": [
    {
     "name": "stdout",
     "output_type": "stream",
     "text": [
      "Geçerli harf: P\n",
      "Geçerli harf: y\n",
      "Geçerli harf: t\n",
      "Bu pass bloğu içinde\n",
      "Geçerli harf: h\n",
      "Geçerli harf: o\n",
      "Geçerli harf: n\n"
     ]
    }
   ],
   "source": [
    "for harf in 'Python':  \n",
    "   if harf == 'h':\n",
    "      pass\n",
    "      print('Bu pass bloğu içinde')\n",
    "   print('Geçerli harf:', harf)"
   ]
  },
  {
   "cell_type": "code",
   "execution_count": 1,
   "metadata": {},
   "outputs": [
    {
     "name": "stdout",
     "output_type": "stream",
     "text": [
      "5\n",
      "Asal değil\n"
     ]
    }
   ],
   "source": [
    "sayi = 35\n",
    "asal = True\n",
    "for i in range(2, 67//2):\n",
    "    if sayi % i == 0:\n",
    "        print(i)\n",
    "        asal = False\n",
    "        break\n",
    "\n",
    "if asal:\n",
    "    print(\"Asal sayı\")\n",
    "else:\n",
    "    print(\"Asal değil\")"
   ]
  },
  {
   "cell_type": "code",
   "execution_count": 2,
   "metadata": {},
   "outputs": [
    {
     "name": "stdout",
     "output_type": "stream",
     "text": [
      "2\n",
      "3\n",
      "5\n",
      "7\n",
      "11\n",
      "13\n",
      "17\n",
      "19\n",
      "23\n",
      "29\n",
      "31\n",
      "37\n",
      "41\n",
      "43\n",
      "47\n",
      "53\n",
      "59\n",
      "61\n",
      "67\n",
      "71\n",
      "73\n",
      "79\n",
      "83\n",
      "89\n",
      "97\n"
     ]
    }
   ],
   "source": [
    "for i in range(2, 100):\n",
    "    asal = True\n",
    "    for j in range(2, i):\n",
    "        if i % j == 0:\n",
    "            asal = False\n",
    "            break\n",
    "    if asal:\n",
    "        print(i)"
   ]
  },
  {
   "cell_type": "code",
   "execution_count": null,
   "metadata": {},
   "outputs": [],
   "source": []
  }
 ],
 "metadata": {
  "kernelspec": {
   "display_name": "Python 3",
   "language": "python",
   "name": "python3"
  },
  "language_info": {
   "codemirror_mode": {
    "name": "ipython",
    "version": 3
   },
   "file_extension": ".py",
   "mimetype": "text/x-python",
   "name": "python",
   "nbconvert_exporter": "python",
   "pygments_lexer": "ipython3",
   "version": "3.6.5"
  }
 },
 "nbformat": 4,
 "nbformat_minor": 2
}
