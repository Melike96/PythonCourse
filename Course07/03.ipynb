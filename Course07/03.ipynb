{
 "cells": [
  {
   "cell_type": "code",
   "execution_count": 6,
   "metadata": {},
   "outputs": [
    {
     "name": "stdout",
     "output_type": "stream",
     "text": [
      "['physics', 'chemistry', 1997, 2000, 4.5]\n",
      "list1[0]:  physics\n",
      "list1[1]:  2\n",
      "list2[1:5]:  [2, 3, 4, 5]\n",
      "list1[-2]:  2000\n",
      "list1[-2:]:  [2000, 4.5]\n",
      "list1[-2:]:  ['physics', 'chemistry', 1997]\n"
     ]
    }
   ],
   "source": [
    "list1 = ['physics', 'chemistry', 1997, 2000, 4.5]\n",
    "list2 = [1, 2, 3, 4, 5, 6, 7 ]\n",
    "print(list1)\n",
    "print(\"list1[0]: \", list1[0])\n",
    "print(\"list1[1]: \", list2[1])\n",
    "print(\"list2[1:5]: \", list2[1:5])\n",
    "#print(\"list1[9]:\", list2[9]) #index out of range hatası alınır.\n",
    "print(\"list1[-2]: \", list1[-2])\n",
    "print(\"list1[-2:]: \", list1[-2:])\n",
    "print(\"list1[-2:]: \", list1[:-2])"
   ]
  },
  {
   "cell_type": "code",
   "execution_count": 9,
   "metadata": {},
   "outputs": [
    {
     "name": "stdout",
     "output_type": "stream",
     "text": [
      "Mevcut veri index 2 : \n",
      "2001\n",
      "2643531736816\n",
      "Yeni veri index 2 : \n",
      "2001\n",
      "2643531735184\n"
     ]
    }
   ],
   "source": [
    "print(\"Mevcut veri index 2 : \")\n",
    "print(list1[2])\n",
    "print(id(list1[2]))\n",
    "list1[2] = 2001; #güncelleme satırı\n",
    "print(\"Yeni veri index 2 : \")\n",
    "print(list1[2])\n",
    "print(id(list1[2]))"
   ]
  },
  {
   "cell_type": "code",
   "execution_count": 10,
   "metadata": {},
   "outputs": [
    {
     "name": "stdout",
     "output_type": "stream",
     "text": [
      "['physics', 'chemistry', 2001, 2000, 4.5, 1, 2, 3, 4, 5, 6, 7]\n",
      "12\n"
     ]
    }
   ],
   "source": [
    "list3 = list1 + list2\n",
    "print(list3)\n",
    "print(len(list3))"
   ]
  },
  {
   "cell_type": "code",
   "execution_count": 12,
   "metadata": {},
   "outputs": [
    {
     "name": "stdout",
     "output_type": "stream",
     "text": [
      "True\n",
      "False\n"
     ]
    }
   ],
   "source": [
    "print(4.5 in list3)\n",
    "print(\"Test\" in list3)"
   ]
  },
  {
   "cell_type": "code",
   "execution_count": 13,
   "metadata": {},
   "outputs": [
    {
     "name": "stdout",
     "output_type": "stream",
     "text": [
      "['physics', 'chemistry', 2001, 2000, 4.5, 1, 2, 3, 4, 5, 6, 7, 'Merhaba']\n"
     ]
    }
   ],
   "source": [
    "list3.append(\"Merhaba\")\n",
    "print(list3)"
   ]
  },
  {
   "cell_type": "code",
   "execution_count": 14,
   "metadata": {},
   "outputs": [
    {
     "name": "stdout",
     "output_type": "stream",
     "text": [
      "['physics', 'chemistry', 2001, 2000, 4.5, 1, 2, 3, 4, 5, 6, 7, 'Merhaba']\n",
      "['Merhaba', 7, 6, 5, 4, 3, 2, 1, 4.5, 2000, 2001, 'chemistry', 'physics']\n"
     ]
    }
   ],
   "source": [
    "print(list3)\n",
    "list3.reverse()\n",
    "print(list3)"
   ]
  },
  {
   "cell_type": "code",
   "execution_count": null,
   "metadata": {},
   "outputs": [],
   "source": []
  }
 ],
 "metadata": {
  "kernelspec": {
   "display_name": "Python 3",
   "language": "python",
   "name": "python3"
  },
  "language_info": {
   "codemirror_mode": {
    "name": "ipython",
    "version": 3
   },
   "file_extension": ".py",
   "mimetype": "text/x-python",
   "name": "python",
   "nbconvert_exporter": "python",
   "pygments_lexer": "ipython3",
   "version": "3.6.5"
  }
 },
 "nbformat": 4,
 "nbformat_minor": 2
}
