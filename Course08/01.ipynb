{
 "cells": [
  {
   "cell_type": "code",
   "execution_count": 1,
   "metadata": {},
   "outputs": [],
   "source": [
    "def beniYaz1(isim):\n",
    "    print('Merhaba', isim)"
   ]
  },
  {
   "cell_type": "code",
   "execution_count": 2,
   "metadata": {},
   "outputs": [
    {
     "name": "stdout",
     "output_type": "stream",
     "text": [
      "Merhaba Mehmet 1\n"
     ]
    }
   ],
   "source": [
    "beniYaz1(\"Mehmet 1\")"
   ]
  },
  {
   "cell_type": "code",
   "execution_count": 3,
   "metadata": {},
   "outputs": [],
   "source": [
    "def beniYaz2(isim):\n",
    "    print('Merhaba', isim)\n",
    "    return"
   ]
  },
  {
   "cell_type": "code",
   "execution_count": 4,
   "metadata": {},
   "outputs": [
    {
     "name": "stdout",
     "output_type": "stream",
     "text": [
      "Merhaba Mehmet 2\n"
     ]
    }
   ],
   "source": [
    "beniYaz2(\"Mehmet 2\")"
   ]
  },
  {
   "cell_type": "code",
   "execution_count": 5,
   "metadata": {},
   "outputs": [],
   "source": [
    "def topla(x, y):\n",
    "    return x + y"
   ]
  },
  {
   "cell_type": "code",
   "execution_count": 6,
   "metadata": {},
   "outputs": [
    {
     "name": "stdout",
     "output_type": "stream",
     "text": [
      "11\n"
     ]
    }
   ],
   "source": [
    "print(topla(5, 6))"
   ]
  },
  {
   "cell_type": "code",
   "execution_count": 7,
   "metadata": {},
   "outputs": [
    {
     "name": "stdout",
     "output_type": "stream",
     "text": [
      "Merhaba return function\n"
     ]
    }
   ],
   "source": [
    "print(topla(\"Merhaba \", \"return function\"))"
   ]
  },
  {
   "cell_type": "code",
   "execution_count": 8,
   "metadata": {},
   "outputs": [
    {
     "ename": "TypeError",
     "evalue": "unsupported operand type(s) for +: 'int' and 'str'",
     "output_type": "error",
     "traceback": [
      "\u001b[1;31m---------------------------------------------------------------------------\u001b[0m",
      "\u001b[1;31mTypeError\u001b[0m                                 Traceback (most recent call last)",
      "\u001b[1;32m<ipython-input-8-d3cf9681ce91>\u001b[0m in \u001b[0;36m<module>\u001b[1;34m()\u001b[0m\n\u001b[1;32m----> 1\u001b[1;33m \u001b[0mprint\u001b[0m\u001b[1;33m(\u001b[0m\u001b[0mtopla\u001b[0m\u001b[1;33m(\u001b[0m\u001b[1;36m5\u001b[0m\u001b[1;33m,\u001b[0m\u001b[1;34m\"6\"\u001b[0m\u001b[1;33m)\u001b[0m\u001b[1;33m)\u001b[0m\u001b[1;33m\u001b[0m\u001b[0m\n\u001b[0m",
      "\u001b[1;32m<ipython-input-5-458b14e12687>\u001b[0m in \u001b[0;36mtopla\u001b[1;34m(x, y)\u001b[0m\n\u001b[0;32m      1\u001b[0m \u001b[1;32mdef\u001b[0m \u001b[0mtopla\u001b[0m\u001b[1;33m(\u001b[0m\u001b[0mx\u001b[0m\u001b[1;33m,\u001b[0m \u001b[0my\u001b[0m\u001b[1;33m)\u001b[0m\u001b[1;33m:\u001b[0m\u001b[1;33m\u001b[0m\u001b[0m\n\u001b[1;32m----> 2\u001b[1;33m     \u001b[1;32mreturn\u001b[0m \u001b[0mx\u001b[0m \u001b[1;33m+\u001b[0m \u001b[0my\u001b[0m\u001b[1;33m\u001b[0m\u001b[0m\n\u001b[0m",
      "\u001b[1;31mTypeError\u001b[0m: unsupported operand type(s) for +: 'int' and 'str'"
     ]
    }
   ],
   "source": [
    "print(topla(5,\"6\")) #hata üretir"
   ]
  },
  {
   "cell_type": "code",
   "execution_count": 12,
   "metadata": {},
   "outputs": [
    {
     "name": "stdout",
     "output_type": "stream",
     "text": [
      "2277267364232\n",
      "[21, 38, 27, 90, 'Deneme', 'Birinci liste', 234.2]\n",
      "2277267364232\n",
      "2277267364232\n",
      "[21, 38, 27, 90, 'Deneme', 'Birinci liste', 234.2, [4, 63, 1, 'Test', 2.3]]\n"
     ]
    }
   ],
   "source": [
    "def liste_ekleme(liste):\n",
    "    print(id(liste))\n",
    "    liste.append([4, 63, 1, \"Test\", 2.3])\n",
    "    print(id(liste))\n",
    "    return\n",
    "\n",
    "my_list = [21, 38, 27, 90, \"Deneme\", \"Birinci liste\", 234.2]\n",
    "print(id(my_list))\n",
    "print(my_list)\n",
    "liste_ekleme(my_list)\n",
    "print(my_list)"
   ]
  },
  {
   "cell_type": "code",
   "execution_count": 14,
   "metadata": {},
   "outputs": [
    {
     "name": "stdout",
     "output_type": "stream",
     "text": [
      "2277267364040\n",
      "[21, 38, 27, 90, 'Deneme', 'Birinci liste', 234.2]\n",
      "2277267364040\n",
      "Fonksiyon içi [21, 38, 27, 90, 'Deneme', 'Birinci liste', 234.2]\n",
      "Fonksiyon içi ['Merhaba', 'Deneme', 23, 45]\n",
      "2277267052104\n",
      "[21, 38, 27, 90, 'Deneme', 'Birinci liste', 234.2]\n"
     ]
    }
   ],
   "source": [
    "def liste_ekleme(liste):\n",
    "    print(id(liste))\n",
    "    print(\"Fonksiyon içi\", liste)\n",
    "    liste = [\"Merhaba\",\"Deneme\", 23, 45]\n",
    "    print(\"Fonksiyon içi\", liste)\n",
    "    print(id(liste))\n",
    "    return\n",
    "\n",
    "my_list = [21, 38, 27, 90, \"Deneme\", \"Birinci liste\", 234.2]\n",
    "print(id(my_list))\n",
    "print(my_list)\n",
    "liste_ekleme(my_list)\n",
    "print(my_list)"
   ]
  },
  {
   "cell_type": "code",
   "execution_count": 15,
   "metadata": {},
   "outputs": [
    {
     "name": "stdout",
     "output_type": "stream",
     "text": [
      "Merhaba Argümanlı gönderim\n"
     ]
    }
   ],
   "source": [
    "beniYaz2(\"Argümanlı gönderim\")"
   ]
  },
  {
   "cell_type": "code",
   "execution_count": 16,
   "metadata": {},
   "outputs": [
    {
     "ename": "TypeError",
     "evalue": "beniYaz2() missing 1 required positional argument: 'isim'",
     "output_type": "error",
     "traceback": [
      "\u001b[1;31m---------------------------------------------------------------------------\u001b[0m",
      "\u001b[1;31mTypeError\u001b[0m                                 Traceback (most recent call last)",
      "\u001b[1;32m<ipython-input-16-8617f06a3bb7>\u001b[0m in \u001b[0;36m<module>\u001b[1;34m()\u001b[0m\n\u001b[1;32m----> 1\u001b[1;33m \u001b[0mbeniYaz2\u001b[0m\u001b[1;33m(\u001b[0m\u001b[1;33m)\u001b[0m\u001b[1;33m\u001b[0m\u001b[0m\n\u001b[0m",
      "\u001b[1;31mTypeError\u001b[0m: beniYaz2() missing 1 required positional argument: 'isim'"
     ]
    }
   ],
   "source": [
    "beniYaz2()"
   ]
  },
  {
   "cell_type": "code",
   "execution_count": 17,
   "metadata": {},
   "outputs": [],
   "source": [
    "def kisi(ad, yas):\n",
    "    print(ad, yas)\n",
    "    return"
   ]
  },
  {
   "cell_type": "code",
   "execution_count": 18,
   "metadata": {},
   "outputs": [
    {
     "name": "stdout",
     "output_type": "stream",
     "text": [
      "Mehmet 23\n"
     ]
    }
   ],
   "source": [
    "kisi(\"Mehmet\", 23)"
   ]
  },
  {
   "cell_type": "code",
   "execution_count": 19,
   "metadata": {},
   "outputs": [
    {
     "name": "stdout",
     "output_type": "stream",
     "text": [
      "Ali 23\n"
     ]
    }
   ],
   "source": [
    "kisi(yas = 23, ad = \"Ali\")"
   ]
  },
  {
   "cell_type": "code",
   "execution_count": 20,
   "metadata": {},
   "outputs": [
    {
     "ename": "TypeError",
     "evalue": "kisi() missing 1 required positional argument: 'yas'",
     "output_type": "error",
     "traceback": [
      "\u001b[1;31m---------------------------------------------------------------------------\u001b[0m",
      "\u001b[1;31mTypeError\u001b[0m                                 Traceback (most recent call last)",
      "\u001b[1;32m<ipython-input-20-a9a712ca2411>\u001b[0m in \u001b[0;36m<module>\u001b[1;34m()\u001b[0m\n\u001b[1;32m----> 1\u001b[1;33m \u001b[0mkisi\u001b[0m\u001b[1;33m(\u001b[0m\u001b[0mad\u001b[0m\u001b[1;33m=\u001b[0m\u001b[1;34m\"Ali\"\u001b[0m\u001b[1;33m)\u001b[0m\u001b[1;33m\u001b[0m\u001b[0m\n\u001b[0m",
      "\u001b[1;31mTypeError\u001b[0m: kisi() missing 1 required positional argument: 'yas'"
     ]
    }
   ],
   "source": [
    "kisi(ad=\"Ali\")"
   ]
  },
  {
   "cell_type": "code",
   "execution_count": 32,
   "metadata": {},
   "outputs": [],
   "source": [
    "def kisi2(ad = \"Boş\", yas = 20):\n",
    "    print(ad, yas)\n",
    "    return"
   ]
  },
  {
   "cell_type": "code",
   "execution_count": 33,
   "metadata": {},
   "outputs": [
    {
     "name": "stdout",
     "output_type": "stream",
     "text": [
      "Ali 23\n"
     ]
    }
   ],
   "source": [
    "kisi2(yas = 23, ad = \"Ali\")"
   ]
  },
  {
   "cell_type": "code",
   "execution_count": 34,
   "metadata": {},
   "outputs": [
    {
     "name": "stdout",
     "output_type": "stream",
     "text": [
      "Test 20\n"
     ]
    }
   ],
   "source": [
    "kisi2(ad = \"Test\")"
   ]
  },
  {
   "cell_type": "code",
   "execution_count": 35,
   "metadata": {},
   "outputs": [
    {
     "name": "stdout",
     "output_type": "stream",
     "text": [
      "Test 2 20\n"
     ]
    }
   ],
   "source": [
    "kisi2(\"Test 2\")"
   ]
  },
  {
   "cell_type": "code",
   "execution_count": 36,
   "metadata": {},
   "outputs": [
    {
     "name": "stdout",
     "output_type": "stream",
     "text": [
      "Boş 20\n"
     ]
    }
   ],
   "source": [
    "kisi2()"
   ]
  },
  {
   "cell_type": "code",
   "execution_count": 37,
   "metadata": {},
   "outputs": [
    {
     "ename": "TypeError",
     "evalue": "kisi2() takes from 0 to 2 positional arguments but 3 were given",
     "output_type": "error",
     "traceback": [
      "\u001b[1;31m---------------------------------------------------------------------------\u001b[0m",
      "\u001b[1;31mTypeError\u001b[0m                                 Traceback (most recent call last)",
      "\u001b[1;32m<ipython-input-37-6e6daf73b27f>\u001b[0m in \u001b[0;36m<module>\u001b[1;34m()\u001b[0m\n\u001b[1;32m----> 1\u001b[1;33m \u001b[0mkisi2\u001b[0m\u001b[1;33m(\u001b[0m\u001b[1;36m1\u001b[0m\u001b[1;33m,\u001b[0m \u001b[1;36m2\u001b[0m\u001b[1;33m,\u001b[0m \u001b[1;36m3\u001b[0m\u001b[1;33m)\u001b[0m\u001b[1;33m\u001b[0m\u001b[0m\n\u001b[0m",
      "\u001b[1;31mTypeError\u001b[0m: kisi2() takes from 0 to 2 positional arguments but 3 were given"
     ]
    }
   ],
   "source": [
    "kisi2(1, 2, 3)"
   ]
  },
  {
   "cell_type": "code",
   "execution_count": 38,
   "metadata": {},
   "outputs": [
    {
     "ename": "SyntaxError",
     "evalue": "invalid syntax (<ipython-input-38-7a7177bed7a0>, line 1)",
     "output_type": "error",
     "traceback": [
      "\u001b[1;36m  File \u001b[1;32m\"<ipython-input-38-7a7177bed7a0>\"\u001b[1;36m, line \u001b[1;32m1\u001b[0m\n\u001b[1;33m    kisi2(,34)\u001b[0m\n\u001b[1;37m          ^\u001b[0m\n\u001b[1;31mSyntaxError\u001b[0m\u001b[1;31m:\u001b[0m invalid syntax\n"
     ]
    }
   ],
   "source": [
    "kisi2(,34)"
   ]
  },
  {
   "cell_type": "code",
   "execution_count": 39,
   "metadata": {},
   "outputs": [
    {
     "name": "stdout",
     "output_type": "stream",
     "text": [
      "Boş 34\n"
     ]
    }
   ],
   "source": [
    "kisi2(yas=34)"
   ]
  },
  {
   "cell_type": "code",
   "execution_count": 50,
   "metadata": {},
   "outputs": [],
   "source": [
    "def beniYaz3(s, *args):\n",
    "    print(\"Değişken\", s)\n",
    "    for arg in args:\n",
    "        print(arg)"
   ]
  },
  {
   "cell_type": "code",
   "execution_count": 51,
   "metadata": {},
   "outputs": [
    {
     "name": "stdout",
     "output_type": "stream",
     "text": [
      "Değişken Deneme\n",
      "45\n",
      "67\n",
      "Deneme\n",
      "2.3\n"
     ]
    }
   ],
   "source": [
    "beniYaz3(\"Deneme\", 45, 67, \"Deneme\", 2.3)"
   ]
  },
  {
   "cell_type": "code",
   "execution_count": 52,
   "metadata": {},
   "outputs": [
    {
     "ename": "TypeError",
     "evalue": "beniYaz3() missing 1 required positional argument: 's'",
     "output_type": "error",
     "traceback": [
      "\u001b[1;31m---------------------------------------------------------------------------\u001b[0m",
      "\u001b[1;31mTypeError\u001b[0m                                 Traceback (most recent call last)",
      "\u001b[1;32m<ipython-input-52-17a636c59c39>\u001b[0m in \u001b[0;36m<module>\u001b[1;34m()\u001b[0m\n\u001b[1;32m----> 1\u001b[1;33m \u001b[0mbeniYaz3\u001b[0m\u001b[1;33m(\u001b[0m\u001b[1;33m)\u001b[0m\u001b[1;33m\u001b[0m\u001b[0m\n\u001b[0m",
      "\u001b[1;31mTypeError\u001b[0m: beniYaz3() missing 1 required positional argument: 's'"
     ]
    }
   ],
   "source": [
    "beniYaz3()"
   ]
  },
  {
   "cell_type": "code",
   "execution_count": 53,
   "metadata": {},
   "outputs": [
    {
     "name": "stdout",
     "output_type": "stream",
     "text": [
      "Değişken Argümansız\n"
     ]
    }
   ],
   "source": [
    "beniYaz3(\"Argümansız\")"
   ]
  },
  {
   "cell_type": "code",
   "execution_count": 54,
   "metadata": {},
   "outputs": [],
   "source": [
    "topla = lambda arg1, arg2: arg1 + arg2"
   ]
  },
  {
   "cell_type": "code",
   "execution_count": 55,
   "metadata": {},
   "outputs": [
    {
     "name": "stdout",
     "output_type": "stream",
     "text": [
      "57\n"
     ]
    }
   ],
   "source": [
    "print(topla(3, 54))"
   ]
  },
  {
   "cell_type": "code",
   "execution_count": 58,
   "metadata": {},
   "outputs": [
    {
     "name": "stdout",
     "output_type": "stream",
     "text": [
      "1961651232\n",
      "1961652192\n",
      "Fonksiyonun içi toplam:  30\n",
      "Fonksiyonun dışındaki toplam:  0\n"
     ]
    }
   ],
   "source": [
    "toplam = 0 # Global değişken\n",
    "# toplama fonksiyonu\n",
    "def toplama( arg1, arg2 ):# Toplama fonksiyonu\n",
    "    toplam = arg1 + arg2 # Local değişken\n",
    "    print(id(toplam))\n",
    "    print(\"Fonksiyonun içi toplam: \", toplam)\n",
    "    return\n",
    "\n",
    "# Fonksiyonu çağırma\n",
    "print(id(toplam))\n",
    "toplama( 10, 20 )\n",
    "print(\"Fonksiyonun dışındaki toplam: \", toplam)"
   ]
  },
  {
   "cell_type": "code",
   "execution_count": 60,
   "metadata": {},
   "outputs": [
    {
     "name": "stdout",
     "output_type": "stream",
     "text": [
      "1961651232\n",
      "1961652192\n",
      "Fonksiyonun içi toplam:  30\n",
      "Fonksiyonun dışındaki toplam:  30\n"
     ]
    }
   ],
   "source": [
    "toplam = 0 # Global değişken\n",
    "# toplama fonksiyonu\n",
    "def toplama2( arg1, arg2 ):# Toplama fonksiyonu\n",
    "    global toplam \n",
    "    toplam = arg1 + arg2 # Local değişken\n",
    "    print(id(toplam))\n",
    "    print(\"Fonksiyonun içi toplam: \", toplam)\n",
    "    return\n",
    "\n",
    "# Fonksiyonu çağırma\n",
    "print(id(toplam))\n",
    "toplama2( 10, 20 )\n",
    "print(\"Fonksiyonun dışındaki toplam: \", toplam)"
   ]
  },
  {
   "cell_type": "code",
   "execution_count": null,
   "metadata": {},
   "outputs": [],
   "source": []
  }
 ],
 "metadata": {
  "kernelspec": {
   "display_name": "Python 3",
   "language": "python",
   "name": "python3"
  },
  "language_info": {
   "codemirror_mode": {
    "name": "ipython",
    "version": 3
   },
   "file_extension": ".py",
   "mimetype": "text/x-python",
   "name": "python",
   "nbconvert_exporter": "python",
   "pygments_lexer": "ipython3",
   "version": "3.6.5"
  }
 },
 "nbformat": 4,
 "nbformat_minor": 2
}
