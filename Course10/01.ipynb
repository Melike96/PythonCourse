{
 "cells": [
  {
   "cell_type": "code",
   "execution_count": 2,
   "metadata": {},
   "outputs": [
    {
     "name": "stdout",
     "output_type": "stream",
     "text": [
      "Merhaba Python 1000\n"
     ]
    }
   ],
   "source": [
    "sayi = 1000\n",
    "str1 = 'Python'\n",
    "print('Merhaba', str1, sayi)"
   ]
  },
  {
   "cell_type": "code",
   "execution_count": 4,
   "metadata": {},
   "outputs": [
    {
     "name": "stdout",
     "output_type": "stream",
     "text": [
      "Merhaba 1000 Python değişkenler köşeli parantez içinde\n",
      "Merhaba Python 1000 f veya F karakteri ile başlanmalı\n"
     ]
    }
   ],
   "source": [
    "print(f'Merhaba {sayi} {str1} değişkenler köşeli parantez içinde')\n",
    "print(F'Merhaba {str1} {sayi} f veya F karakteri ile başlanmalı')"
   ]
  },
  {
   "cell_type": "code",
   "execution_count": 14,
   "metadata": {},
   "outputs": [
    {
     "name": "stdout",
     "output_type": "stream",
     "text": [
      " 42572654 EVET 49.67339%\n",
      "Farklı gösterim : 0.49673\n"
     ]
    }
   ],
   "source": [
    "evet = 42_572_654\n",
    "hayir = 43_132_495\n",
    "yuzde = evet / (evet + hayir)\n",
    "print('{:-9} EVET {:2.5%}'.format(evet, yuzde))\n",
    "print(f'Farklı gösterim : {yuzde:.5f}')"
   ]
  },
  {
   "cell_type": "code",
   "execution_count": 15,
   "metadata": {},
   "outputs": [
    {
     "name": "stdout",
     "output_type": "stream",
     "text": [
      "1. değer Merhaba ve 2. değer \"Python!\"\n",
      "1. değer Merhaba ve 2. değer \"Python!\"\n",
      "2. değer Python ve 1. değer \"Merhaba!\"\n",
      "1. değer Merhaba ve 2. değer \"Python!\"\n",
      "1. değer Merhaba ve 2. değer \"Python!\"\n"
     ]
    }
   ],
   "source": [
    "print('1. değer {} ve 2. değer \"{}!\"'.format('Merhaba', 'Python')) #sıralı erişim\n",
    "print('1. değer {0} ve 2. değer \"{1}!\"'.format('Merhaba', 'Python')) #index ile erişim\n",
    "print('2. değer {1} ve 1. değer \"{0}!\"'.format('Merhaba', 'Python')) #sıralama\n",
    "print('1. değer {deg1} ve 2. değer \"{deg2}!\"'.format(deg1='Merhaba', deg2='Python')) #değişken üzerinden erişim\n",
    "print('1. değer {0} ve 2. değer \"{deg2}!\"'.format('Merhaba', deg2='Python')) # hem index hem de değişken ile erişim"
   ]
  },
  {
   "cell_type": "code",
   "execution_count": 16,
   "metadata": {},
   "outputs": [
    {
     "name": "stdout",
     "output_type": "stream",
     "text": [
      "             Merhaba\n",
      "Merhaba             \n",
      "      Merhaba       \n",
      "0000000012\n",
      "0000012.02\n",
      "Merhaba sayı      8.146\n"
     ]
    }
   ],
   "source": [
    "degisken = 'Merhaba'\n",
    "print(degisken.rjust(20))#karakter sayısı, sağa yasla\n",
    "print(degisken.ljust(20))#karakter sayısı, sola yasla\n",
    "print(degisken.center(20))#karakter sayısı, ortala\n",
    "print('12'.zfill(10))#karakter sayısı, kalan karakterler için 0 ekle\n",
    "print('12.02'.zfill(10))#karakter sayısı, kalan karakter için 0 ekle\n",
    "sayi = 8.1456789\n",
    "print('Merhaba sayı %10.3f' % sayi) #%'den sonra karakter sayısı, f virgüllü kısım"
   ]
  },
  {
   "cell_type": "code",
   "execution_count": 17,
   "metadata": {},
   "outputs": [
    {
     "name": "stdout",
     "output_type": "stream",
     "text": [
      "Bir Python ifadesi girin : 9837827\n"
     ]
    }
   ],
   "source": [
    "str2 = input(\"Bir Python ifadesi girin : \")"
   ]
  },
  {
   "cell_type": "code",
   "execution_count": 18,
   "metadata": {},
   "outputs": [
    {
     "name": "stdout",
     "output_type": "stream",
     "text": [
      "Dönen sonuç :  9837827\n"
     ]
    }
   ],
   "source": [
    "print(\"Dönen sonuç : \", str2)"
   ]
  },
  {
   "cell_type": "code",
   "execution_count": 1,
   "metadata": {},
   "outputs": [
    {
     "name": "stdout",
     "output_type": "stream",
     "text": [
      "List : [x*5 for x in range(2,10,2)]\n"
     ]
    }
   ],
   "source": [
    "str2 = input(\"List : \")"
   ]
  },
  {
   "cell_type": "code",
   "execution_count": 2,
   "metadata": {},
   "outputs": [
    {
     "name": "stdout",
     "output_type": "stream",
     "text": [
      "[x*5 for x in range(2,10,2)]\n"
     ]
    }
   ],
   "source": [
    "print(str2)"
   ]
  },
  {
   "cell_type": "code",
   "execution_count": 3,
   "metadata": {},
   "outputs": [],
   "source": [
    "str3 = [x*5 for x in range(2,10,2)]"
   ]
  },
  {
   "cell_type": "code",
   "execution_count": 4,
   "metadata": {},
   "outputs": [
    {
     "name": "stdout",
     "output_type": "stream",
     "text": [
      "[10, 20, 30, 40]\n"
     ]
    }
   ],
   "source": [
    "print(str3)"
   ]
  },
  {
   "cell_type": "code",
   "execution_count": null,
   "metadata": {},
   "outputs": [],
   "source": []
  }
 ],
 "metadata": {
  "kernelspec": {
   "display_name": "Python 3",
   "language": "python",
   "name": "python3"
  },
  "language_info": {
   "codemirror_mode": {
    "name": "ipython",
    "version": 3
   },
   "file_extension": ".py",
   "mimetype": "text/x-python",
   "name": "python",
   "nbconvert_exporter": "python",
   "pygments_lexer": "ipython3",
   "version": "3.6.5"
  }
 },
 "nbformat": 4,
 "nbformat_minor": 2
}
