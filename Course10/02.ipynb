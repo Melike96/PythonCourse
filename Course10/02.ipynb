{
 "cells": [
  {
   "cell_type": "code",
   "execution_count": 1,
   "metadata": {},
   "outputs": [
    {
     "name": "stdout",
     "output_type": "stream",
     "text": [
      "Dosya:  dosya.txt\n",
      "Kapalı mı değil mi :  False\n",
      "Erişim modu :  w\n",
      "Kapalı mı değil mi :  True\n"
     ]
    }
   ],
   "source": [
    "fo = open(\"dosya.txt\", \"w\")\n",
    "print(\"Dosya: \", fo.name)\n",
    "print(\"Kapalı mı değil mi : \", fo.closed)\n",
    "print(\"Erişim modu : \", fo.mode)\n",
    "fo.close()\n",
    "print(\"Kapalı mı değil mi : \", fo.closed)"
   ]
  },
  {
   "cell_type": "code",
   "execution_count": 5,
   "metadata": {},
   "outputs": [],
   "source": [
    "fo = open(\"dosya.txt\", \"a\")\n",
    "fo.write(\"Merhaba Python dosya dünyası.\\nİkinci satıra geçtik!!\\n\")\n",
    "fo.write(\"Üçüncü satır çalışmaya devam\")\n",
    "fo.write(\"!!!\")\n",
    "fo.close()"
   ]
  },
  {
   "cell_type": "code",
   "execution_count": 6,
   "metadata": {},
   "outputs": [
    {
     "name": "stdout",
     "output_type": "stream",
     "text": [
      "1. Okunan :  Merhaba Py\n",
      "2. Okunan :  thon dosya\n",
      "3. Okunan :   dünyası.\n",
      "İkinci satıra geçtik!!\n",
      "Üçüncü satır çalışmaya devam!!!\n"
     ]
    }
   ],
   "source": [
    "fo = open(\"dosya.txt\")\n",
    "str1 = fo.read(10);\n",
    "print(\"1. Okunan : \", str1)\n",
    "str1 = fo.read(10);\n",
    "print(\"2. Okunan : \", str1)\n",
    "str1 = fo.read();\n",
    "print(\"3. Okunan : \", str1)\n",
    "fo.close()"
   ]
  },
  {
   "cell_type": "code",
   "execution_count": 7,
   "metadata": {},
   "outputs": [
    {
     "name": "stdout",
     "output_type": "stream",
     "text": [
      "1. okunan :  Merhaba Py\n",
      "Şu anki pozisyon :  10\n",
      "2. okunan :  Merhaba Py\n"
     ]
    }
   ],
   "source": [
    "fo = open(\"dosya.txt\", \"r\")\n",
    "str1 = fo.read(10);\n",
    "print(\"1. okunan : \", str1)\n",
    "position = fo.tell(); #pozisyon bilgisi\n",
    "print(\"Şu anki pozisyon : \", position)\n",
    "#tekrar başa konumlan\n",
    "position = fo.seek(0, 0);\n",
    "str1 = fo.read(10);\n",
    "print(\"2. okunan : \", str1)\n",
    "fo.close()"
   ]
  },
  {
   "cell_type": "code",
   "execution_count": 10,
   "metadata": {},
   "outputs": [
    {
     "name": "stdout",
     "output_type": "stream",
     "text": [
      "False\n",
      "Merhaba Python dosya dünyası.\n",
      "İkinci satıra geçtik!!\n",
      "Üçüncü satır çalışmaya devam!!!\n"
     ]
    }
   ],
   "source": [
    "with open(\"dosya.txt\") as dosya:\n",
    "    print(dosya.closed)\n",
    "    print(dosya.read())"
   ]
  },
  {
   "cell_type": "code",
   "execution_count": 11,
   "metadata": {},
   "outputs": [
    {
     "name": "stdout",
     "output_type": "stream",
     "text": [
      "True\n"
     ]
    }
   ],
   "source": [
    "print(dosya.closed)"
   ]
  },
  {
   "cell_type": "code",
   "execution_count": null,
   "metadata": {},
   "outputs": [],
   "source": []
  }
 ],
 "metadata": {
  "kernelspec": {
   "display_name": "Python 3",
   "language": "python",
   "name": "python3"
  },
  "language_info": {
   "codemirror_mode": {
    "name": "ipython",
    "version": 3
   },
   "file_extension": ".py",
   "mimetype": "text/x-python",
   "name": "python",
   "nbconvert_exporter": "python",
   "pygments_lexer": "ipython3",
   "version": "3.6.5"
  }
 },
 "nbformat": 4,
 "nbformat_minor": 2
}
