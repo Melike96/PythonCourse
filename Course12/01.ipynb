{
 "cells": [
  {
   "cell_type": "code",
   "execution_count": 1,
   "metadata": {},
   "outputs": [],
   "source": [
    "class ogrenci:\n",
    "    adsoyad = \"Deneme\""
   ]
  },
  {
   "cell_type": "code",
   "execution_count": 2,
   "metadata": {},
   "outputs": [],
   "source": [
    "ogr01 = ogrenci()"
   ]
  },
  {
   "cell_type": "code",
   "execution_count": 3,
   "metadata": {},
   "outputs": [
    {
     "name": "stdout",
     "output_type": "stream",
     "text": [
      "Deneme\n"
     ]
    }
   ],
   "source": [
    "print(ogr01.adsoyad)"
   ]
  },
  {
   "cell_type": "code",
   "execution_count": 4,
   "metadata": {},
   "outputs": [
    {
     "name": "stdout",
     "output_type": "stream",
     "text": [
      "Deneme\n",
      "Öğrenci 2\n"
     ]
    }
   ],
   "source": [
    "ogr02 = ogrenci()\n",
    "ogr02.adsoyad = \"Öğrenci 2\"\n",
    "\n",
    "print(ogr01.adsoyad)\n",
    "print(ogr02.adsoyad)"
   ]
  },
  {
   "cell_type": "code",
   "execution_count": 8,
   "metadata": {},
   "outputs": [],
   "source": [
    "class ogrenci:\n",
    "    cnt = 0;\n",
    "    def __init__(self):\n",
    "        cnt += 1"
   ]
  },
  {
   "cell_type": "code",
   "execution_count": 9,
   "metadata": {},
   "outputs": [
    {
     "ename": "UnboundLocalError",
     "evalue": "local variable 'cnt' referenced before assignment",
     "output_type": "error",
     "traceback": [
      "\u001b[1;31m---------------------------------------------------------------------------\u001b[0m",
      "\u001b[1;31mUnboundLocalError\u001b[0m                         Traceback (most recent call last)",
      "\u001b[1;32m<ipython-input-9-189d99d99887>\u001b[0m in \u001b[0;36m<module>\u001b[1;34m()\u001b[0m\n\u001b[1;32m----> 1\u001b[1;33m \u001b[0mogr01\u001b[0m \u001b[1;33m=\u001b[0m \u001b[0mogrenci\u001b[0m\u001b[1;33m(\u001b[0m\u001b[1;33m)\u001b[0m\u001b[1;33m\u001b[0m\u001b[0m\n\u001b[0m\u001b[0;32m      2\u001b[0m \u001b[0mprint\u001b[0m\u001b[1;33m(\u001b[0m\u001b[0mogr01\u001b[0m\u001b[1;33m.\u001b[0m\u001b[0mcnt\u001b[0m\u001b[1;33m)\u001b[0m\u001b[1;33m\u001b[0m\u001b[0m\n\u001b[0;32m      3\u001b[0m \u001b[0mogr02\u001b[0m \u001b[1;33m=\u001b[0m \u001b[0mogrenci\u001b[0m\u001b[1;33m(\u001b[0m\u001b[1;33m)\u001b[0m\u001b[1;33m\u001b[0m\u001b[0m\n\u001b[0;32m      4\u001b[0m \u001b[0mprint\u001b[0m\u001b[1;33m(\u001b[0m\u001b[0mogr02\u001b[0m\u001b[1;33m.\u001b[0m\u001b[0mcnt\u001b[0m\u001b[1;33m)\u001b[0m\u001b[1;33m\u001b[0m\u001b[0m\n\u001b[0;32m      5\u001b[0m \u001b[0mogr03\u001b[0m \u001b[1;33m=\u001b[0m \u001b[0mogrenci\u001b[0m\u001b[1;33m(\u001b[0m\u001b[1;33m)\u001b[0m\u001b[1;33m\u001b[0m\u001b[0m\n",
      "\u001b[1;32m<ipython-input-8-c375a0802383>\u001b[0m in \u001b[0;36m__init__\u001b[1;34m(self)\u001b[0m\n\u001b[0;32m      2\u001b[0m     \u001b[0mcnt\u001b[0m \u001b[1;33m=\u001b[0m \u001b[1;36m0\u001b[0m\u001b[1;33m;\u001b[0m\u001b[1;33m\u001b[0m\u001b[0m\n\u001b[0;32m      3\u001b[0m     \u001b[1;32mdef\u001b[0m \u001b[0m__init__\u001b[0m\u001b[1;33m(\u001b[0m\u001b[0mself\u001b[0m\u001b[1;33m)\u001b[0m\u001b[1;33m:\u001b[0m\u001b[1;33m\u001b[0m\u001b[0m\n\u001b[1;32m----> 4\u001b[1;33m         \u001b[0mcnt\u001b[0m \u001b[1;33m+=\u001b[0m \u001b[1;36m1\u001b[0m\u001b[1;33m\u001b[0m\u001b[0m\n\u001b[0m",
      "\u001b[1;31mUnboundLocalError\u001b[0m: local variable 'cnt' referenced before assignment"
     ]
    }
   ],
   "source": [
    "ogr01 = ogrenci()\n",
    "print(ogr01.cnt)\n",
    "ogr02 = ogrenci()\n",
    "print(ogr02.cnt)\n",
    "ogr03 = ogrenci()\n",
    "print(ogr03.cnt)"
   ]
  },
  {
   "cell_type": "code",
   "execution_count": 10,
   "metadata": {},
   "outputs": [],
   "source": [
    "class ogrenci:\n",
    "    cnt = 0;\n",
    "    def __init__(self):\n",
    "        ogrenci.cnt += 1"
   ]
  },
  {
   "cell_type": "code",
   "execution_count": 11,
   "metadata": {},
   "outputs": [
    {
     "name": "stdout",
     "output_type": "stream",
     "text": [
      "1\n",
      "2\n",
      "3\n"
     ]
    }
   ],
   "source": [
    "ogr01 = ogrenci()\n",
    "print(ogr01.cnt)\n",
    "ogr02 = ogrenci()\n",
    "print(ogr02.cnt)\n",
    "ogr03 = ogrenci()\n",
    "print(ogr03.cnt)"
   ]
  },
  {
   "cell_type": "code",
   "execution_count": 13,
   "metadata": {},
   "outputs": [],
   "source": [
    "class ogrenci:\n",
    "    cnt = 0;\n",
    "    def __init__(self):\n",
    "        self.cnt += 1"
   ]
  },
  {
   "cell_type": "code",
   "execution_count": 14,
   "metadata": {},
   "outputs": [
    {
     "name": "stdout",
     "output_type": "stream",
     "text": [
      "1\n",
      "1\n",
      "1\n"
     ]
    }
   ],
   "source": [
    "ogr01 = ogrenci()\n",
    "print(ogr01.cnt)\n",
    "ogr02 = ogrenci()\n",
    "print(ogr02.cnt)\n",
    "ogr03 = ogrenci()\n",
    "print(ogr03.cnt)"
   ]
  },
  {
   "cell_type": "code",
   "execution_count": 1,
   "metadata": {},
   "outputs": [],
   "source": [
    "class ogrenci:\n",
    "    cnt = 0;\n",
    "    def __init__(self, no):\n",
    "        self.no = no\n",
    "        ogrenci.cnt += 1"
   ]
  },
  {
   "cell_type": "code",
   "execution_count": 2,
   "metadata": {},
   "outputs": [
    {
     "name": "stdout",
     "output_type": "stream",
     "text": [
      "90928\n",
      "1\n"
     ]
    }
   ],
   "source": [
    "ogr01 = ogrenci(90928)\n",
    "print(ogr01.no)\n",
    "print(ogr01.cnt)"
   ]
  },
  {
   "cell_type": "code",
   "execution_count": 3,
   "metadata": {},
   "outputs": [
    {
     "name": "stdout",
     "output_type": "stream",
     "text": [
      "34556\n",
      "2\n",
      "90928\n",
      "2\n"
     ]
    }
   ],
   "source": [
    "ogr02 = ogrenci(34556)\n",
    "print(ogr02.no)\n",
    "print(ogr02.cnt)\n",
    "print(ogr01.no)\n",
    "print(ogr01.cnt)"
   ]
  },
  {
   "cell_type": "code",
   "execution_count": 5,
   "metadata": {},
   "outputs": [
    {
     "name": "stdout",
     "output_type": "stream",
     "text": [
      "1968663648\n",
      "1968663648\n",
      "1429744830416\n",
      "1429744829104\n"
     ]
    }
   ],
   "source": [
    "print(id(ogr02.cnt))\n",
    "print(id(ogr01.cnt))\n",
    "print(id(ogr02.no))\n",
    "print(id(ogr01.no))"
   ]
  },
  {
   "cell_type": "code",
   "execution_count": 6,
   "metadata": {},
   "outputs": [],
   "source": [
    "del ogr01.no"
   ]
  },
  {
   "cell_type": "code",
   "execution_count": 7,
   "metadata": {},
   "outputs": [
    {
     "ename": "AttributeError",
     "evalue": "'ogrenci' object has no attribute 'no'",
     "output_type": "error",
     "traceback": [
      "\u001b[1;31m---------------------------------------------------------------------------\u001b[0m",
      "\u001b[1;31mAttributeError\u001b[0m                            Traceback (most recent call last)",
      "\u001b[1;32m<ipython-input-7-37a1cbf533cd>\u001b[0m in \u001b[0;36m<module>\u001b[1;34m()\u001b[0m\n\u001b[1;32m----> 1\u001b[1;33m \u001b[0mprint\u001b[0m\u001b[1;33m(\u001b[0m\u001b[0mogr01\u001b[0m\u001b[1;33m.\u001b[0m\u001b[0mno\u001b[0m\u001b[1;33m)\u001b[0m\u001b[1;33m\u001b[0m\u001b[0m\n\u001b[0m",
      "\u001b[1;31mAttributeError\u001b[0m: 'ogrenci' object has no attribute 'no'"
     ]
    }
   ],
   "source": [
    "print(ogr01.no)"
   ]
  },
  {
   "cell_type": "code",
   "execution_count": 8,
   "metadata": {},
   "outputs": [],
   "source": [
    "del ogr01"
   ]
  },
  {
   "cell_type": "code",
   "execution_count": 9,
   "metadata": {},
   "outputs": [
    {
     "ename": "NameError",
     "evalue": "name 'ogr01' is not defined",
     "output_type": "error",
     "traceback": [
      "\u001b[1;31m---------------------------------------------------------------------------\u001b[0m",
      "\u001b[1;31mNameError\u001b[0m                                 Traceback (most recent call last)",
      "\u001b[1;32m<ipython-input-9-5f9c0165ac5d>\u001b[0m in \u001b[0;36m<module>\u001b[1;34m()\u001b[0m\n\u001b[1;32m----> 1\u001b[1;33m \u001b[0mogr01\u001b[0m\u001b[1;33m\u001b[0m\u001b[0m\n\u001b[0m",
      "\u001b[1;31mNameError\u001b[0m: name 'ogr01' is not defined"
     ]
    }
   ],
   "source": [
    "ogr01"
   ]
  },
  {
   "cell_type": "code",
   "execution_count": 10,
   "metadata": {},
   "outputs": [],
   "source": [
    "class ogrenci:\n",
    "    'Öğrenci sınıfı'\n",
    "    cnt = 0;\n",
    "    def __init__(self, no):\n",
    "        self.no = no\n",
    "        ogrenci.cnt += 1"
   ]
  },
  {
   "cell_type": "code",
   "execution_count": 11,
   "metadata": {},
   "outputs": [
    {
     "name": "stdout",
     "output_type": "stream",
     "text": [
      "Ogrenci.__doc__: Öğrenci sınıfı\n",
      "Ogrenci.__name__: ogrenci\n",
      "Ogrenci.__module__: __main__\n",
      "Ogrenci.__bases__: (<class 'object'>,)\n",
      "Ogrenci.__dict__: {'__module__': '__main__', '__doc__': 'Öğrenci sınıfı', 'cnt': 0, '__init__': <function ogrenci.__init__ at 0x0000014CE371F6A8>, '__dict__': <attribute '__dict__' of 'ogrenci' objects>, '__weakref__': <attribute '__weakref__' of 'ogrenci' objects>}\n"
     ]
    }
   ],
   "source": [
    "print(\"Ogrenci.__doc__:\", ogrenci.__doc__)\n",
    "print(\"Ogrenci.__name__:\", ogrenci.__name__)\n",
    "print(\"Ogrenci.__module__:\", ogrenci.__module__)\n",
    "print(\"Ogrenci.__bases__:\", ogrenci.__bases__)\n",
    "print(\"Ogrenci.__dict__:\", ogrenci.__dict__)"
   ]
  },
  {
   "cell_type": "code",
   "execution_count": 13,
   "metadata": {},
   "outputs": [],
   "source": [
    "class Nokta:\n",
    "    def __init__( self, x=0, y=0):\n",
    "        print(\"Nesnenin ilk işlemleri\")\n",
    "        self.x = x\n",
    "        self.y = y\n",
    "    def __del__(self):\n",
    "        class_name = self.__class__.__name__\n",
    "        print(\"Nesnenin son işlemleri\")\n",
    "        print(class_name, \"yok edildi!!!\")"
   ]
  },
  {
   "cell_type": "code",
   "execution_count": 14,
   "metadata": {},
   "outputs": [
    {
     "name": "stdout",
     "output_type": "stream",
     "text": [
      "Nesnenin ilk işlemleri\n"
     ]
    }
   ],
   "source": [
    "p1 = Nokta(10, 10)"
   ]
  },
  {
   "cell_type": "code",
   "execution_count": 15,
   "metadata": {},
   "outputs": [
    {
     "name": "stdout",
     "output_type": "stream",
     "text": [
      "Nesnenin ilk işlemleri\n"
     ]
    }
   ],
   "source": [
    "p2 = Nokta(10,23)"
   ]
  },
  {
   "cell_type": "code",
   "execution_count": 16,
   "metadata": {},
   "outputs": [
    {
     "name": "stdout",
     "output_type": "stream",
     "text": [
      "Nesnenin son işlemleri\n",
      "Nokta yok edildi!!!\n"
     ]
    }
   ],
   "source": [
    "del p1"
   ]
  },
  {
   "cell_type": "code",
   "execution_count": 30,
   "metadata": {},
   "outputs": [],
   "source": [
    "class Daire:\n",
    "    def __init__(self, r):\n",
    "        self.r = r\n",
    "    \n",
    "    def cevre(self):\n",
    "        return 2 * 3.14 * self.r\n",
    "    \n",
    "    def alan(self):\n",
    "        return 3.14 * self.r ** 2"
   ]
  },
  {
   "cell_type": "code",
   "execution_count": 31,
   "metadata": {},
   "outputs": [],
   "source": [
    "d1 = Daire(5)"
   ]
  },
  {
   "cell_type": "code",
   "execution_count": 32,
   "metadata": {},
   "outputs": [
    {
     "name": "stdout",
     "output_type": "stream",
     "text": [
      "31.400000000000002\n",
      "78.5\n"
     ]
    }
   ],
   "source": [
    "print(d1.cevre())\n",
    "print(d1.alan())"
   ]
  },
  {
   "cell_type": "code",
   "execution_count": 33,
   "metadata": {},
   "outputs": [
    {
     "name": "stdout",
     "output_type": "stream",
     "text": [
      "18.84\n",
      "28.26\n"
     ]
    }
   ],
   "source": [
    "d2 = Daire(3)\n",
    "print(d2.cevre())\n",
    "print(d2.alan())"
   ]
  },
  {
   "cell_type": "code",
   "execution_count": 34,
   "metadata": {},
   "outputs": [],
   "source": [
    "class Kure (Daire):\n",
    "    def __init__(self, r):\n",
    "        self.r = r"
   ]
  },
  {
   "cell_type": "code",
   "execution_count": 35,
   "metadata": {},
   "outputs": [
    {
     "name": "stdout",
     "output_type": "stream",
     "text": [
      "25.12\n",
      "50.24\n"
     ]
    }
   ],
   "source": [
    "k1 = Kure(4)\n",
    "print(k1.cevre())\n",
    "print(k1.alan()) #alan yanlış"
   ]
  },
  {
   "cell_type": "code",
   "execution_count": 36,
   "metadata": {},
   "outputs": [],
   "source": [
    "class Kure (Daire):\n",
    "    def __init__(self, r):\n",
    "        self.r = r\n",
    "    \n",
    "    def alan(self):\n",
    "        return 4 * 3.14 * self.r ** 2\n",
    "    \n",
    "    def hacim(self):\n",
    "        return 4 / 3 * 3.14 * self.r ** 3"
   ]
  },
  {
   "cell_type": "code",
   "execution_count": 37,
   "metadata": {},
   "outputs": [
    {
     "name": "stdout",
     "output_type": "stream",
     "text": [
      "25.12\n",
      "200.96\n",
      "267.94666666666666\n"
     ]
    }
   ],
   "source": [
    "k2 = Kure(4)\n",
    "print(k2.cevre())\n",
    "print(k2.alan())\n",
    "print(k2.hacim())"
   ]
  },
  {
   "cell_type": "code",
   "execution_count": 38,
   "metadata": {},
   "outputs": [
    {
     "name": "stdout",
     "output_type": "stream",
     "text": [
      "<__main__.Kure object at 0x0000014CE3738EB8>\n"
     ]
    }
   ],
   "source": [
    "print(k2)"
   ]
  },
  {
   "cell_type": "code",
   "execution_count": 39,
   "metadata": {},
   "outputs": [],
   "source": [
    "class Kure (Daire):\n",
    "    def __init__(self, r):\n",
    "        self.r = r\n",
    "    \n",
    "    def alan(self):\n",
    "        return 4 * 3.14 * self.r ** 2\n",
    "    \n",
    "    def hacim(self):\n",
    "        return 4 / 3 * 3.14 * self.r ** 3\n",
    "    \n",
    "    def __str__(self):\n",
    "        return \"Bunun yarı çapı: \" + str(self.r)"
   ]
  },
  {
   "cell_type": "code",
   "execution_count": 40,
   "metadata": {},
   "outputs": [
    {
     "name": "stdout",
     "output_type": "stream",
     "text": [
      "25.12\n",
      "200.96\n",
      "267.94666666666666\n",
      "Bunun yarı çapı: 4\n"
     ]
    }
   ],
   "source": [
    "k2 = Kure(4)\n",
    "print(k2.cevre())\n",
    "print(k2.alan())\n",
    "print(k2.hacim())\n",
    "print(k2)"
   ]
  },
  {
   "cell_type": "code",
   "execution_count": 41,
   "metadata": {},
   "outputs": [],
   "source": [
    "class Vektor:\n",
    "    def __init__(self, x, y):\n",
    "        self.x = x\n",
    "        self.y = y\n",
    "        \n",
    "    def __str__(self):\n",
    "        return 'Vektör (%d, %d)' % (self.x, self.y)"
   ]
  },
  {
   "cell_type": "code",
   "execution_count": 42,
   "metadata": {},
   "outputs": [
    {
     "ename": "TypeError",
     "evalue": "unsupported operand type(s) for +: 'Vektor' and 'Vektor'",
     "output_type": "error",
     "traceback": [
      "\u001b[1;31m---------------------------------------------------------------------------\u001b[0m",
      "\u001b[1;31mTypeError\u001b[0m                                 Traceback (most recent call last)",
      "\u001b[1;32m<ipython-input-42-92dd75b9d832>\u001b[0m in \u001b[0;36m<module>\u001b[1;34m()\u001b[0m\n\u001b[0;32m      1\u001b[0m \u001b[0mv1\u001b[0m \u001b[1;33m=\u001b[0m \u001b[0mVektor\u001b[0m\u001b[1;33m(\u001b[0m\u001b[1;36m2\u001b[0m\u001b[1;33m,\u001b[0m\u001b[1;36m10\u001b[0m\u001b[1;33m)\u001b[0m\u001b[1;33m\u001b[0m\u001b[0m\n\u001b[0;32m      2\u001b[0m \u001b[0mv2\u001b[0m \u001b[1;33m=\u001b[0m \u001b[0mVektor\u001b[0m\u001b[1;33m(\u001b[0m\u001b[1;36m5\u001b[0m\u001b[1;33m,\u001b[0m\u001b[1;33m-\u001b[0m\u001b[1;36m2\u001b[0m\u001b[1;33m)\u001b[0m\u001b[1;33m\u001b[0m\u001b[0m\n\u001b[1;32m----> 3\u001b[1;33m \u001b[0mprint\u001b[0m\u001b[1;33m(\u001b[0m\u001b[0mv1\u001b[0m \u001b[1;33m+\u001b[0m \u001b[0mv2\u001b[0m\u001b[1;33m)\u001b[0m\u001b[1;33m\u001b[0m\u001b[0m\n\u001b[0m",
      "\u001b[1;31mTypeError\u001b[0m: unsupported operand type(s) for +: 'Vektor' and 'Vektor'"
     ]
    }
   ],
   "source": [
    "v1 = Vektor(2,10)\n",
    "v2 = Vektor(5,-2)\n",
    "print(v1 + v2)"
   ]
  },
  {
   "cell_type": "code",
   "execution_count": 43,
   "metadata": {},
   "outputs": [],
   "source": [
    "class Vektor:\n",
    "    def __init__(self, x, y):\n",
    "        self.x = x\n",
    "        self.y = y\n",
    "        \n",
    "    def __str__(self):\n",
    "        return 'Vektör (%d, %d)' % (self.x, self.y)\n",
    "    \n",
    "    def __add__(self, other):\n",
    "        return Vektor(self.x + other.x, self.y + other.y)"
   ]
  },
  {
   "cell_type": "code",
   "execution_count": 44,
   "metadata": {},
   "outputs": [
    {
     "name": "stdout",
     "output_type": "stream",
     "text": [
      "Vektör (2, 10)\n",
      "Vektör (5, -2)\n",
      "Vektör (7, 8)\n"
     ]
    }
   ],
   "source": [
    "v1 = Vektor(2,10)\n",
    "v2 = Vektor(5,-2)\n",
    "v3 = v1 + v2\n",
    "print(v1)\n",
    "print(v2)\n",
    "print(v3)"
   ]
  },
  {
   "cell_type": "code",
   "execution_count": 45,
   "metadata": {},
   "outputs": [
    {
     "name": "stdout",
     "output_type": "stream",
     "text": [
      "Vektör (7, 8)\n"
     ]
    }
   ],
   "source": [
    "print(v1 + v2)"
   ]
  },
  {
   "cell_type": "code",
   "execution_count": 46,
   "metadata": {},
   "outputs": [
    {
     "name": "stdout",
     "output_type": "stream",
     "text": [
      "Vektör (7, 8)\n"
     ]
    }
   ],
   "source": [
    "v1 = v1 + v2\n",
    "print(v1)"
   ]
  },
  {
   "cell_type": "code",
   "execution_count": 51,
   "metadata": {},
   "outputs": [],
   "source": [
    "class sayi:\n",
    "    __deger = 0"
   ]
  },
  {
   "cell_type": "code",
   "execution_count": 52,
   "metadata": {},
   "outputs": [],
   "source": [
    "s1 = sayi()\n",
    "s1.__deger = 7"
   ]
  },
  {
   "cell_type": "code",
   "execution_count": 53,
   "metadata": {},
   "outputs": [
    {
     "name": "stdout",
     "output_type": "stream",
     "text": [
      "7\n"
     ]
    }
   ],
   "source": [
    "print(s1.__deger)"
   ]
  },
  {
   "cell_type": "code",
   "execution_count": 69,
   "metadata": {},
   "outputs": [],
   "source": [
    "class sayi:\n",
    "    def __init__(self):\n",
    "        self.__deger = 0 #private"
   ]
  },
  {
   "cell_type": "code",
   "execution_count": 70,
   "metadata": {},
   "outputs": [],
   "source": [
    "s1 = sayi()\n",
    "s1.__deger = 7"
   ]
  },
  {
   "cell_type": "code",
   "execution_count": 71,
   "metadata": {},
   "outputs": [],
   "source": [
    "class sayi:\n",
    "    def __init__(self):\n",
    "        self.__deger = 0 #private\n",
    "    \n",
    "    def get_deger(self):\n",
    "        return self.__deger;\n",
    "    \n",
    "    def set_deger(self, d):\n",
    "        if d < 0:\n",
    "            self.__deger = 0\n",
    "        else:\n",
    "            self.__deger = d"
   ]
  },
  {
   "cell_type": "code",
   "execution_count": 72,
   "metadata": {},
   "outputs": [
    {
     "name": "stdout",
     "output_type": "stream",
     "text": [
      "90\n"
     ]
    }
   ],
   "source": [
    "s1 = sayi()\n",
    "s1.set_deger(90)\n",
    "print(s1.get_deger())"
   ]
  },
  {
   "cell_type": "code",
   "execution_count": null,
   "metadata": {},
   "outputs": [],
   "source": []
  },
  {
   "cell_type": "code",
   "execution_count": null,
   "metadata": {},
   "outputs": [],
   "source": []
  }
 ],
 "metadata": {
  "kernelspec": {
   "display_name": "Python 3",
   "language": "python",
   "name": "python3"
  },
  "language_info": {
   "codemirror_mode": {
    "name": "ipython",
    "version": 3
   },
   "file_extension": ".py",
   "mimetype": "text/x-python",
   "name": "python",
   "nbconvert_exporter": "python",
   "pygments_lexer": "ipython3",
   "version": "3.6.5"
  }
 },
 "nbformat": 4,
 "nbformat_minor": 2
}
