{
 "cells": [
  {
   "cell_type": "code",
   "execution_count": 6,
   "metadata": {},
   "outputs": [
    {
     "name": "stdout",
     "output_type": "stream",
     "text": [
      "Birinci\n",
      "1\n",
      "İkinci\n",
      "2\n",
      "Üçüncü\n",
      "3\n"
     ]
    }
   ],
   "source": [
    "# Basit bir generator\n",
    "def my_gen():\n",
    "    i = 1\n",
    "    print('Birinci')\n",
    "    yield i\n",
    "\n",
    "    i += 1\n",
    "    print('İkinci')\n",
    "    yield i\n",
    "\n",
    "    i += 1\n",
    "    print('Üçüncü')\n",
    "    yield i\n",
    "\n",
    "a = my_gen()\n",
    "print(next(a))\n",
    "print(next(a))\n",
    "print(next(a))"
   ]
  },
  {
   "cell_type": "code",
   "execution_count": 4,
   "metadata": {},
   "outputs": [
    {
     "name": "stdout",
     "output_type": "stream",
     "text": [
      "Birinci\n",
      "1\n",
      "İkinci\n",
      "2\n",
      "Üçüncü\n",
      "3\n"
     ]
    }
   ],
   "source": [
    "for oge in my_gen():\n",
    "    print(oge)"
   ]
  },
  {
   "cell_type": "code",
   "execution_count": 7,
   "metadata": {},
   "outputs": [
    {
     "name": "stdout",
     "output_type": "stream",
     "text": [
      "a\n",
      "b\n",
      "a\n",
      "h\n",
      "r\n",
      "e\n",
      "m\n"
     ]
    }
   ],
   "source": [
    "def rev_str(my_str):\n",
    "    'Döngülü yield'\n",
    "    length = len(my_str)\n",
    "    for i in range(length - 1,-1,-1):\n",
    "        yield my_str[i] \n",
    "\n",
    "for char in rev_str(\"merhaba\"):\n",
    "     print(char)"
   ]
  },
  {
   "cell_type": "code",
   "execution_count": 8,
   "metadata": {},
   "outputs": [
    {
     "name": "stdout",
     "output_type": "stream",
     "text": [
      "abahrem\n",
      "a\n",
      "b\n",
      "a\n",
      "h\n",
      "r\n",
      "e\n",
      "m\n"
     ]
    }
   ],
   "source": [
    "def rev_str_klasik(my_str):\n",
    "    'Döngülü yield'\n",
    "    length = len(my_str)\n",
    "    temp = \"\"\n",
    "    for i in range(length - 1,-1,-1):\n",
    "        temp += my_str[i]\n",
    "    return temp\n",
    "print(rev_str_klasik(\"merhaba\"))\n",
    "for char in rev_str_klasik(\"merhaba\"):\n",
    "     print(char)"
   ]
  },
  {
   "cell_type": "code",
   "execution_count": 9,
   "metadata": {},
   "outputs": [
    {
     "name": "stdout",
     "output_type": "stream",
     "text": [
      "[1, 9, 36, 100]\n",
      "<generator object <genexpr> at 0x0000029A101FA678>\n"
     ]
    }
   ],
   "source": [
    "# Bir liste\n",
    "my_list = [1, 3, 6, 10]\n",
    "\n",
    "# Bir liste ifadesi, döngü ile oluşturulmuş\n",
    "# Çıktısı: [1, 9, 36, 100]\n",
    "print([x**2 for x in my_list])\n",
    "\n",
    "# generator ifadesi, parantezlere dikkat, Çıktısına dikkat\n",
    "# Çıktısı: <generator object <genexpr> at 0x0000000002EBDAF8>\n",
    "print((x**2 for x in my_list))"
   ]
  },
  {
   "cell_type": "code",
   "execution_count": 10,
   "metadata": {},
   "outputs": [
    {
     "name": "stdout",
     "output_type": "stream",
     "text": [
      "1\n",
      "9\n",
      "36\n",
      "100\n"
     ]
    }
   ],
   "source": [
    "a = (x**2 for x in my_list)\n",
    "print(next(a))\n",
    "print(next(a))\n",
    "print(next(a))\n",
    "print(next(a))"
   ]
  },
  {
   "cell_type": "code",
   "execution_count": 11,
   "metadata": {},
   "outputs": [
    {
     "ename": "StopIteration",
     "evalue": "",
     "output_type": "error",
     "traceback": [
      "\u001b[1;31m---------------------------------------------------------------------------\u001b[0m",
      "\u001b[1;31mStopIteration\u001b[0m                             Traceback (most recent call last)",
      "\u001b[1;32m<ipython-input-11-15841f3f11d4>\u001b[0m in \u001b[0;36m<module>\u001b[1;34m()\u001b[0m\n\u001b[1;32m----> 1\u001b[1;33m \u001b[0mnext\u001b[0m\u001b[1;33m(\u001b[0m\u001b[0ma\u001b[0m\u001b[1;33m)\u001b[0m\u001b[1;33m\u001b[0m\u001b[0m\n\u001b[0m",
      "\u001b[1;31mStopIteration\u001b[0m: "
     ]
    }
   ],
   "source": [
    "next(a)"
   ]
  },
  {
   "cell_type": "code",
   "execution_count": 12,
   "metadata": {},
   "outputs": [
    {
     "name": "stdout",
     "output_type": "stream",
     "text": [
      "146\n",
      "100\n"
     ]
    }
   ],
   "source": [
    "print(sum(x**2 for x in my_list))\n",
    "print(max(x**2 for x in my_list))"
   ]
  },
  {
   "cell_type": "code",
   "execution_count": 25,
   "metadata": {},
   "outputs": [
    {
     "name": "stdout",
     "output_type": "stream",
     "text": [
      "<generator object KupAlGen at 0x0000029A101FA150>\n"
     ]
    }
   ],
   "source": [
    "def KupAlGen(i = 0):\n",
    "    n = 0\n",
    "    while n < i:\n",
    "        yield 2 ** n\n",
    "        n += 1\n",
    "\n",
    "x = KupAlGen(5)\n",
    "print(x)"
   ]
  },
  {
   "cell_type": "code",
   "execution_count": 26,
   "metadata": {},
   "outputs": [
    {
     "name": "stdout",
     "output_type": "stream",
     "text": [
      "1\n",
      "2\n",
      "4\n",
      "8\n",
      "16\n"
     ]
    }
   ],
   "source": [
    "print(next(x))\n",
    "print(next(x))\n",
    "print(next(x))\n",
    "print(next(x))\n",
    "print(next(x))"
   ]
  },
  {
   "cell_type": "code",
   "execution_count": 27,
   "metadata": {},
   "outputs": [
    {
     "ename": "StopIteration",
     "evalue": "",
     "output_type": "error",
     "traceback": [
      "\u001b[1;31m---------------------------------------------------------------------------\u001b[0m",
      "\u001b[1;31mStopIteration\u001b[0m                             Traceback (most recent call last)",
      "\u001b[1;32m<ipython-input-27-92de4e9f6b1e>\u001b[0m in \u001b[0;36m<module>\u001b[1;34m()\u001b[0m\n\u001b[1;32m----> 1\u001b[1;33m \u001b[0mnext\u001b[0m\u001b[1;33m(\u001b[0m\u001b[0mx\u001b[0m\u001b[1;33m)\u001b[0m\u001b[1;33m\u001b[0m\u001b[0m\n\u001b[0m",
      "\u001b[1;31mStopIteration\u001b[0m: "
     ]
    }
   ],
   "source": [
    "next(x)"
   ]
  },
  {
   "cell_type": "code",
   "execution_count": null,
   "metadata": {},
   "outputs": [],
   "source": []
  }
 ],
 "metadata": {
  "kernelspec": {
   "display_name": "Python 3",
   "language": "python",
   "name": "python3"
  },
  "language_info": {
   "codemirror_mode": {
    "name": "ipython",
    "version": 3
   },
   "file_extension": ".py",
   "mimetype": "text/x-python",
   "name": "python",
   "nbconvert_exporter": "python",
   "pygments_lexer": "ipython3",
   "version": "3.6.5"
  }
 },
 "nbformat": 4,
 "nbformat_minor": 2
}
