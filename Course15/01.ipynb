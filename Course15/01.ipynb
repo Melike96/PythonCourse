{
 "cells": [
  {
   "cell_type": "code",
   "execution_count": 1,
   "metadata": {},
   "outputs": [],
   "source": [
    "class santigrat:\n",
    "    def __init__(self, sicaklik = 0):\n",
    "        self.sicaklik = sicaklik\n",
    " \n",
    "    def fahrenhayt(self):\n",
    "        return (self.sicaklik * 1.8) + 32"
   ]
  },
  {
   "cell_type": "code",
   "execution_count": 2,
   "metadata": {},
   "outputs": [
    {
     "name": "stdout",
     "output_type": "stream",
     "text": [
      "40\n",
      "104.0\n",
      "80\n",
      "176.0\n"
     ]
    }
   ],
   "source": [
    "n01 = santigrat(40)\n",
    "print(n01.sicaklik)\n",
    "print(n01.fahrenhayt())\n",
    "n01.sicaklik = 80\n",
    "print(n01.sicaklik)\n",
    "print(n01.fahrenhayt())"
   ]
  },
  {
   "cell_type": "code",
   "execution_count": 9,
   "metadata": {},
   "outputs": [],
   "source": [
    "class santigrat:\n",
    "    def __init__(self, sicaklik = 0):\n",
    "        self.set_sicaklik(sicaklik)\n",
    " \n",
    "    def fahrenhayt(self):\n",
    "        return (self.get_sicaklik()  * 1.8) + 32\n",
    "    \n",
    "    #get bölümü\n",
    "    def get_sicaklik(self):\n",
    "        return self._sicaklik\n",
    " \n",
    "    #set bölümü\n",
    "    def set_sicaklik(self, deger):\n",
    "        if deger < -273:\n",
    "            raise ValueError(\"Temperature below -273 is not possible\")\n",
    "        self._sicaklik = deger"
   ]
  },
  {
   "cell_type": "code",
   "execution_count": 7,
   "metadata": {},
   "outputs": [
    {
     "ename": "ValueError",
     "evalue": "Temperature below -273 is not possible",
     "output_type": "error",
     "traceback": [
      "\u001b[1;31m---------------------------------------------------------------------------\u001b[0m",
      "\u001b[1;31mValueError\u001b[0m                                Traceback (most recent call last)",
      "\u001b[1;32m<ipython-input-7-deee80ff618a>\u001b[0m in \u001b[0;36m<module>\u001b[1;34m()\u001b[0m\n\u001b[1;32m----> 1\u001b[1;33m \u001b[0mc\u001b[0m \u001b[1;33m=\u001b[0m \u001b[0msantigrat\u001b[0m\u001b[1;33m(\u001b[0m\u001b[1;33m-\u001b[0m\u001b[1;36m277\u001b[0m\u001b[1;33m)\u001b[0m\u001b[1;33m\u001b[0m\u001b[0m\n\u001b[0m",
      "\u001b[1;32m<ipython-input-6-3d1a1fab4070>\u001b[0m in \u001b[0;36m__init__\u001b[1;34m(self, sicaklik)\u001b[0m\n\u001b[0;32m      1\u001b[0m \u001b[1;32mclass\u001b[0m \u001b[0msantigrat\u001b[0m\u001b[1;33m:\u001b[0m\u001b[1;33m\u001b[0m\u001b[0m\n\u001b[0;32m      2\u001b[0m     \u001b[1;32mdef\u001b[0m \u001b[0m__init__\u001b[0m\u001b[1;33m(\u001b[0m\u001b[0mself\u001b[0m\u001b[1;33m,\u001b[0m \u001b[0msicaklik\u001b[0m \u001b[1;33m=\u001b[0m \u001b[1;36m0\u001b[0m\u001b[1;33m)\u001b[0m\u001b[1;33m:\u001b[0m\u001b[1;33m\u001b[0m\u001b[0m\n\u001b[1;32m----> 3\u001b[1;33m         \u001b[0mself\u001b[0m\u001b[1;33m.\u001b[0m\u001b[0mset_sicaklik\u001b[0m\u001b[1;33m(\u001b[0m\u001b[0msicaklik\u001b[0m\u001b[1;33m)\u001b[0m\u001b[1;33m\u001b[0m\u001b[0m\n\u001b[0m\u001b[0;32m      4\u001b[0m \u001b[1;33m\u001b[0m\u001b[0m\n\u001b[0;32m      5\u001b[0m     \u001b[1;32mdef\u001b[0m \u001b[0mfahrenhayt\u001b[0m\u001b[1;33m(\u001b[0m\u001b[0mself\u001b[0m\u001b[1;33m)\u001b[0m\u001b[1;33m:\u001b[0m\u001b[1;33m\u001b[0m\u001b[0m\n",
      "\u001b[1;32m<ipython-input-6-3d1a1fab4070>\u001b[0m in \u001b[0;36mset_sicaklik\u001b[1;34m(self, deger)\u001b[0m\n\u001b[0;32m     13\u001b[0m     \u001b[1;32mdef\u001b[0m \u001b[0mset_sicaklik\u001b[0m\u001b[1;33m(\u001b[0m\u001b[0mself\u001b[0m\u001b[1;33m,\u001b[0m \u001b[0mdeger\u001b[0m\u001b[1;33m)\u001b[0m\u001b[1;33m:\u001b[0m\u001b[1;33m\u001b[0m\u001b[0m\n\u001b[0;32m     14\u001b[0m         \u001b[1;32mif\u001b[0m \u001b[0mdeger\u001b[0m \u001b[1;33m<\u001b[0m \u001b[1;33m-\u001b[0m\u001b[1;36m273\u001b[0m\u001b[1;33m:\u001b[0m\u001b[1;33m\u001b[0m\u001b[0m\n\u001b[1;32m---> 15\u001b[1;33m             \u001b[1;32mraise\u001b[0m \u001b[0mValueError\u001b[0m\u001b[1;33m(\u001b[0m\u001b[1;34m\"Temperature below -273 is not possible\"\u001b[0m\u001b[1;33m)\u001b[0m\u001b[1;33m\u001b[0m\u001b[0m\n\u001b[0m\u001b[0;32m     16\u001b[0m         \u001b[0mself\u001b[0m\u001b[1;33m.\u001b[0m\u001b[0m_sicaklik\u001b[0m \u001b[1;33m=\u001b[0m \u001b[0mdeger\u001b[0m\u001b[1;33m\u001b[0m\u001b[0m\n",
      "\u001b[1;31mValueError\u001b[0m: Temperature below -273 is not possible"
     ]
    }
   ],
   "source": [
    "c = santigrat(-277)"
   ]
  },
  {
   "cell_type": "code",
   "execution_count": 8,
   "metadata": {},
   "outputs": [
    {
     "name": "stdout",
     "output_type": "stream",
     "text": [
      "-77\n",
      "15\n"
     ]
    }
   ],
   "source": [
    "c = santigrat(-77)\n",
    "print(c.get_sicaklik())\n",
    "c.set_sicaklik(15)\n",
    "print(c.get_sicaklik())"
   ]
  },
  {
   "cell_type": "code",
   "execution_count": 10,
   "metadata": {},
   "outputs": [
    {
     "name": "stdout",
     "output_type": "stream",
     "text": [
      "-400\n"
     ]
    }
   ],
   "source": [
    "c._sicaklik = -400\n",
    "print(c.get_sicaklik())"
   ]
  },
  {
   "cell_type": "code",
   "execution_count": 13,
   "metadata": {},
   "outputs": [],
   "source": [
    "class santigrat:\n",
    "    def __init__(self, sicaklik = 0):\n",
    "        self.sicaklik = sicaklik \n",
    "\n",
    "    def fahrenhayt(self):\n",
    "        return (self.sicaklik * 1.8) + 32\n",
    "    \n",
    "    #get bölümü\n",
    "    def get_sicaklik(self):\n",
    "        print(\"Değer döndürülüyor\")\n",
    "        return self._sicaklik\n",
    "\n",
    "    #set bölümü\n",
    "    def set_sicaklik(self, deger):\n",
    "        print(\"Değer alınıyor\")\n",
    "        if deger < -273:\n",
    "            raise ValueError(\"Sıcaklık 273 altı olamaz\")\n",
    "        self._sicaklik = deger\n",
    "\n",
    "    #propety özelliği ekleniyor    \n",
    "    sicaklik = property(get_sicaklik,set_sicaklik)"
   ]
  },
  {
   "cell_type": "code",
   "execution_count": 14,
   "metadata": {},
   "outputs": [
    {
     "name": "stdout",
     "output_type": "stream",
     "text": [
      "Değer alınıyor\n",
      "Değer döndürülüyor\n",
      "-77\n",
      "Değer alınıyor\n",
      "Değer döndürülüyor\n",
      "50\n"
     ]
    }
   ],
   "source": [
    "c = santigrat(-77)\n",
    "print(c.sicaklik)\n",
    "c.sicaklik = 50\n",
    "print(c.sicaklik)"
   ]
  },
  {
   "cell_type": "code",
   "execution_count": 15,
   "metadata": {},
   "outputs": [
    {
     "name": "stdout",
     "output_type": "stream",
     "text": [
      "Değer alınıyor\n",
      "Değer döndürülüyor\n",
      "65\n"
     ]
    }
   ],
   "source": [
    "#hala fonksiyonlarda çalışır, property karşılıkları hemen yanında\n",
    "c.set_sicaklik(65) # c.sicaklik = 65\n",
    "print(c.get_sicaklik()) # print(c.sicaklik)"
   ]
  },
  {
   "cell_type": "code",
   "execution_count": 16,
   "metadata": {},
   "outputs": [
    {
     "name": "stdout",
     "output_type": "stream",
     "text": [
      "Değer alınıyor\n"
     ]
    },
    {
     "ename": "ValueError",
     "evalue": "Sıcaklık 273 altı olamaz",
     "output_type": "error",
     "traceback": [
      "\u001b[1;31m---------------------------------------------------------------------------\u001b[0m",
      "\u001b[1;31mValueError\u001b[0m                                Traceback (most recent call last)",
      "\u001b[1;32m<ipython-input-16-44cadd97d525>\u001b[0m in \u001b[0;36m<module>\u001b[1;34m()\u001b[0m\n\u001b[1;32m----> 1\u001b[1;33m \u001b[0mc\u001b[0m\u001b[1;33m.\u001b[0m\u001b[0msicaklik\u001b[0m \u001b[1;33m=\u001b[0m \u001b[1;33m-\u001b[0m\u001b[1;36m500\u001b[0m\u001b[1;33m\u001b[0m\u001b[0m\n\u001b[0m",
      "\u001b[1;32m<ipython-input-13-120214574ca4>\u001b[0m in \u001b[0;36mset_sicaklik\u001b[1;34m(self, deger)\u001b[0m\n\u001b[0;32m     15\u001b[0m         \u001b[0mprint\u001b[0m\u001b[1;33m(\u001b[0m\u001b[1;34m\"Değer alınıyor\"\u001b[0m\u001b[1;33m)\u001b[0m\u001b[1;33m\u001b[0m\u001b[0m\n\u001b[0;32m     16\u001b[0m         \u001b[1;32mif\u001b[0m \u001b[0mdeger\u001b[0m \u001b[1;33m<\u001b[0m \u001b[1;33m-\u001b[0m\u001b[1;36m273\u001b[0m\u001b[1;33m:\u001b[0m\u001b[1;33m\u001b[0m\u001b[0m\n\u001b[1;32m---> 17\u001b[1;33m             \u001b[1;32mraise\u001b[0m \u001b[0mValueError\u001b[0m\u001b[1;33m(\u001b[0m\u001b[1;34m\"Sıcaklık 273 altı olamaz\"\u001b[0m\u001b[1;33m)\u001b[0m\u001b[1;33m\u001b[0m\u001b[0m\n\u001b[0m\u001b[0;32m     18\u001b[0m         \u001b[0mself\u001b[0m\u001b[1;33m.\u001b[0m\u001b[0m_sicaklik\u001b[0m \u001b[1;33m=\u001b[0m \u001b[0mdeger\u001b[0m\u001b[1;33m\u001b[0m\u001b[0m\n\u001b[0;32m     19\u001b[0m \u001b[1;33m\u001b[0m\u001b[0m\n",
      "\u001b[1;31mValueError\u001b[0m: Sıcaklık 273 altı olamaz"
     ]
    }
   ],
   "source": [
    "c.sicaklik = -500"
   ]
  },
  {
   "cell_type": "code",
   "execution_count": 17,
   "metadata": {},
   "outputs": [
    {
     "name": "stdout",
     "output_type": "stream",
     "text": [
      "Değer döndürülüyor\n",
      "-390\n"
     ]
    }
   ],
   "source": [
    "c._sicaklik = -390\n",
    "print(c.sicaklik)"
   ]
  },
  {
   "cell_type": "code",
   "execution_count": 28,
   "metadata": {},
   "outputs": [],
   "source": [
    "class santigrat:\n",
    "    def __init__(self, sicaklik = 0):\n",
    "        self._sicaklik = sicaklik\n",
    "\n",
    "    def fahrenhayt(self):\n",
    "        return (self.sicaklik * 1.8) + 32\n",
    "    \n",
    "    @property\n",
    "    def sicaklik(self):\n",
    "        print(\"Değer döndürülüyor\")\n",
    "        return self._sicaklik\n",
    "\n",
    "    @sicaklik.setter\n",
    "    def set_sicaklik(self, deger):\n",
    "        print(\"Değer alınıyor\")\n",
    "        if deger < -273:\n",
    "            raise ValueError(\"Sıcaklık 273 altı olamaz\")\n",
    "        self.sicaklik = deger"
   ]
  },
  {
   "cell_type": "code",
   "execution_count": 29,
   "metadata": {},
   "outputs": [
    {
     "name": "stdout",
     "output_type": "stream",
     "text": [
      "Değer döndürülüyor\n",
      "-77\n"
     ]
    }
   ],
   "source": [
    "c = santigrat(-77)\n",
    "print(c.sicaklik)"
   ]
  },
  {
   "cell_type": "code",
   "execution_count": null,
   "metadata": {},
   "outputs": [],
   "source": []
  }
 ],
 "metadata": {
  "kernelspec": {
   "display_name": "Python 3",
   "language": "python",
   "name": "python3"
  },
  "language_info": {
   "codemirror_mode": {
    "name": "ipython",
    "version": 3
   },
   "file_extension": ".py",
   "mimetype": "text/x-python",
   "name": "python",
   "nbconvert_exporter": "python",
   "pygments_lexer": "ipython3",
   "version": "3.6.5"
  }
 },
 "nbformat": 4,
 "nbformat_minor": 2
}
