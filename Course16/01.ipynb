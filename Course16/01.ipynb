{
 "cells": [
  {
   "cell_type": "code",
   "execution_count": 1,
   "metadata": {},
   "outputs": [
    {
     "name": "stdout",
     "output_type": "stream",
     "text": [
      "10\n",
      "1438936416\n",
      "10\n",
      "1438936416\n"
     ]
    }
   ],
   "source": [
    "x = 10\n",
    "y = x\n",
    "print(x)\n",
    "print(id(x))\n",
    "print(y)\n",
    "print(id(y))"
   ]
  },
  {
   "cell_type": "code",
   "execution_count": 2,
   "metadata": {},
   "outputs": [
    {
     "name": "stdout",
     "output_type": "stream",
     "text": [
      "Eski Liste: [[10, 20.2, 30], [-40, 50, 60], [70, 80, 9.9]]\n",
      "Eski liste ID si: 1485309746760\n",
      "Yeni Liste: [[10, 20.2, 30], [-40, 50, 60], [70, 80, 9.9]]\n",
      "Yeni Liste ID si: 1485309746760\n"
     ]
    }
   ],
   "source": [
    "eski_list = [[10, 20.2, 30], [-40, 50, 60], [70, 80, 'Test']]\n",
    "yeni_list = eski_list\n",
    " \n",
    "yeni_list[2][2] = 9.9 #bir değeri update işlemi\n",
    " \n",
    "print('Eski Liste:', eski_list)\n",
    "print('Eski liste ID si:', id(eski_list))\n",
    " \n",
    "print('Yeni Liste:', yeni_list)\n",
    "print('Yeni Liste ID si:', id(yeni_list))"
   ]
  },
  {
   "cell_type": "code",
   "execution_count": 3,
   "metadata": {},
   "outputs": [
    {
     "name": "stdout",
     "output_type": "stream",
     "text": [
      "Eski Liste: [[10, 20.2, 30], [-40, 50, 60], [70, 80, 9.9], ['Yeni liste', -67, 23]]\n",
      "Eski liste ID si: 1485309746760\n",
      "Yeni Liste: [[10, 20.2, 30], [-40, 50, 60], [70, 80, 9.9], ['Yeni liste', -67, 23]]\n",
      "Yeni Liste ID si: 1485309746760\n"
     ]
    }
   ],
   "source": [
    "yeni_list.append([\"Yeni liste\", -67, 23])\n",
    "print('Eski Liste:', eski_list)\n",
    "print('Eski liste ID si:', id(eski_list))\n",
    " \n",
    "print('Yeni Liste:', yeni_list)\n",
    "print('Yeni Liste ID si:', id(yeni_list))"
   ]
  },
  {
   "cell_type": "code",
   "execution_count": 4,
   "metadata": {},
   "outputs": [
    {
     "name": "stdout",
     "output_type": "stream",
     "text": [
      "Eski Liste: [[10, 20.2, 30], [-40, 50, 60], [70, 80, 'Test']]\n",
      "Eski liste ID si: 1485311334472\n",
      "Eski liste 1. eleman ID si 1485311334216\n",
      "Yeni Liste: [[10, 20.2, 30], [-40, 50, 60], [70, 80, 'Test']]\n",
      "Yeni Liste ID si: 1485311334280\n",
      "Yeni liste 1. eleman ID si 1485311334216\n"
     ]
    }
   ],
   "source": [
    "import copy\n",
    " \n",
    "eski_list = [[10, 20.2, 30], [-40, 50, 60], [70, 80, 'Test']]\n",
    "yeni_list = copy.copy(eski_list)\n",
    " \n",
    "print('Eski Liste:', eski_list)\n",
    "print('Eski liste ID si:', id(eski_list))\n",
    "print('Eski liste 1. eleman ID si', id(eski_list[0]))\n",
    " \n",
    "print('Yeni Liste:', yeni_list)\n",
    "print('Yeni Liste ID si:', id(yeni_list))\n",
    "print('Yeni liste 1. eleman ID si', id(yeni_list[0]))"
   ]
  },
  {
   "cell_type": "code",
   "execution_count": 5,
   "metadata": {},
   "outputs": [],
   "source": [
    "yeni_list.append([\"Yeni liste\", -67, 23])"
   ]
  },
  {
   "cell_type": "code",
   "execution_count": 6,
   "metadata": {},
   "outputs": [
    {
     "name": "stdout",
     "output_type": "stream",
     "text": [
      "Eski liste: [[10, 20.2, 30], [-40, 50, 60], [70, 80, 'Test']]\n",
      "Yeni Liste: [[10, 20.2, 30], [-40, 50, 60], [70, 80, 'Test'], ['Yeni liste', -67, 23]]\n"
     ]
    }
   ],
   "source": [
    "print('Eski liste:', eski_list)\n",
    "print('Yeni Liste:', yeni_list)"
   ]
  },
  {
   "cell_type": "code",
   "execution_count": 7,
   "metadata": {},
   "outputs": [],
   "source": [
    "yeni_list[0][0]=90.12"
   ]
  },
  {
   "cell_type": "code",
   "execution_count": 8,
   "metadata": {},
   "outputs": [
    {
     "name": "stdout",
     "output_type": "stream",
     "text": [
      "Eski liste: [[90.12, 20.2, 30], [-40, 50, 60], [70, 80, 'Test']]\n",
      "Yeni Liste: [[90.12, 20.2, 30], [-40, 50, 60], [70, 80, 'Test'], ['Yeni liste', -67, 23]]\n"
     ]
    }
   ],
   "source": [
    "print('Eski liste:', eski_list)\n",
    "print('Yeni Liste:', yeni_list)"
   ]
  },
  {
   "cell_type": "code",
   "execution_count": 9,
   "metadata": {},
   "outputs": [
    {
     "name": "stdout",
     "output_type": "stream",
     "text": [
      "Eski Liste: [[10, 20.2, 30], [-40, 50, 60], [70, 80, 'Test']]\n",
      "Eski liste ID si: 1485309737160\n",
      "Eski liste 1. eleman ID si 1485309792840\n",
      "Yeni Liste: [[10, 20.2, 30], [-40, 50, 60], [70, 80, 'Test']]\n",
      "Yeni Liste ID si: 1485310863944\n",
      "Yeni liste 1. eleman ID si 1485309746760\n"
     ]
    }
   ],
   "source": [
    "import copy\n",
    " \n",
    "eski_list = [[10, 20.2, 30], [-40, 50, 60], [70, 80, 'Test']]\n",
    "yeni_list = copy.deepcopy(eski_list)\n",
    " \n",
    "print('Eski Liste:', eski_list)\n",
    "print('Eski liste ID si:', id(eski_list))\n",
    "print('Eski liste 1. eleman ID si', id(eski_list[0]))\n",
    " \n",
    "print('Yeni Liste:', yeni_list)\n",
    "print('Yeni Liste ID si:', id(yeni_list))\n",
    "print('Yeni liste 1. eleman ID si', id(yeni_list[0]))"
   ]
  },
  {
   "cell_type": "code",
   "execution_count": 10,
   "metadata": {},
   "outputs": [
    {
     "name": "stdout",
     "output_type": "stream",
     "text": [
      "Eski liste: [[10, 20.2, 30], [-40, 50, 60], [70, 80, 'Test']]\n",
      "Yeni Liste: [[10, 20.2, 30], [-40, 50, 60], [70, 80, 'Test'], ['Yeni liste', -67, 23]]\n",
      "Eski liste: [[10, 20.2, 30], [-40, 50, 60], [70, 80, 'Test']]\n",
      "Yeni Liste: [['Güncelleme', 20.2, 30], [-40, 50, 60], [70, 80, 'Test'], ['Yeni liste', -67, 23]]\n"
     ]
    }
   ],
   "source": [
    "yeni_list.append([\"Yeni liste\", -67, 23])\n",
    "print('Eski liste:', eski_list)\n",
    "print('Yeni Liste:', yeni_list)\n",
    "yeni_list[0][0] = \"Güncelleme\"\n",
    "print('Eski liste:', eski_list)\n",
    "print('Yeni Liste:', yeni_list)"
   ]
  },
  {
   "cell_type": "code",
   "execution_count": null,
   "metadata": {},
   "outputs": [],
   "source": []
  }
 ],
 "metadata": {
  "kernelspec": {
   "display_name": "Python 3",
   "language": "python",
   "name": "python3"
  },
  "language_info": {
   "codemirror_mode": {
    "name": "ipython",
    "version": 3
   },
   "file_extension": ".py",
   "mimetype": "text/x-python",
   "name": "python",
   "nbconvert_exporter": "python",
   "pygments_lexer": "ipython3",
   "version": "3.6.5"
  }
 },
 "nbformat": 4,
 "nbformat_minor": 2
}
